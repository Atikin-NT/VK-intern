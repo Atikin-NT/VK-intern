{
  "nbformat": 4,
  "nbformat_minor": 0,
  "metadata": {
    "colab": {
      "provenance": [],
      "collapsed_sections": [
        "T8x7HsLx9mBj",
        "bUTjZNC4_xik",
        "bPuy8mthBwri",
        "ZFBNS6JLCVn2"
      ]
    },
    "kernelspec": {
      "name": "python3",
      "display_name": "Python 3"
    },
    "language_info": {
      "name": "python"
    }
  },
  "cells": [
    {
      "cell_type": "code",
      "execution_count": null,
      "metadata": {
        "colab": {
          "base_uri": "https://localhost:8080/"
        },
        "id": "wemPR4kqHz9P",
        "outputId": "7a1facf6-c0c4-4e99-8793-19b440c0a05d"
      },
      "outputs": [
        {
          "output_type": "stream",
          "name": "stdout",
          "text": [
            "Drive already mounted at /content/drive; to attempt to forcibly remount, call drive.mount(\"/content/drive\", force_remount=True).\n"
          ]
        }
      ],
      "source": [
        "from google.colab import drive\n",
        "drive.mount('/content/drive')\n",
        "\n",
        "import os\n",
        "os.chdir(\"drive/My Drive/VK\")"
      ]
    },
    {
      "cell_type": "code",
      "source": [
        "import pandas as pd\n",
        "import numpy as np\n",
        "import seaborn as sns\n",
        "import matplotlib.pyplot as plt\n",
        "\n",
        "from sklearn.model_selection import train_test_split, KFold\n",
        "\n",
        "import lightgbm as lgb\n",
        "\n",
        "from scipy.spatial import distance\n",
        "\n",
        "from tabulate import tabulate\n",
        "from tqdm import tqdm\n",
        "\n",
        "sns.set_theme()"
      ],
      "metadata": {
        "id": "5OqtYWRFNemX"
      },
      "execution_count": null,
      "outputs": []
    },
    {
      "cell_type": "code",
      "source": [
        "df = pd.read_csv('intern_task.csv')"
      ],
      "metadata": {
        "id": "h38crFtFNmO9"
      },
      "execution_count": null,
      "outputs": []
    },
    {
      "cell_type": "markdown",
      "source": [
        "Задача:\n",
        "\n",
        "+ подготовить и проверить датасет.\n",
        "+ натренировать на любом удобном фреймворке модель, которая будет ранжировать документы по их фичам внутри одной сессии (queri_id) ( по вектору фичей предсказывать ранк документа).\n",
        "+ посчитать метрики ранжирования для своей модели (ndcg_5 как минимум).\n",
        "+ оформить решение и выложить на github, gitlab."
      ],
      "metadata": {
        "id": "OxoVe5ksOSOE"
      }
    },
    {
      "cell_type": "code",
      "source": [
        "df"
      ],
      "metadata": {
        "colab": {
          "base_uri": "https://localhost:8080/",
          "height": 423
        },
        "id": "A1P4g2C4OLN_",
        "outputId": "6c546280-7044-4c80-a7b8-e4904e70694d"
      },
      "execution_count": null,
      "outputs": [
        {
          "output_type": "execute_result",
          "data": {
            "text/plain": [
              "        rank  query_id  feature_0  feature_1  feature_2  feature_3  feature_4  \\\n",
              "0          0        10        1.0        0.0        1.0        3.0        3.0   \n",
              "1          1        10        3.0        0.0        3.0        0.0        3.0   \n",
              "2          0        10        3.0        0.0        2.0        0.0        3.0   \n",
              "3          1        10        3.0        0.0        3.0        0.0        3.0   \n",
              "4          2        10        3.0        0.0        3.0        1.0        3.0   \n",
              "...      ...       ...        ...        ...        ...        ...        ...   \n",
              "235253     2     29995        1.0        0.0        0.0        0.0        1.0   \n",
              "235254     2     29995        1.0        0.0        1.0        0.0        1.0   \n",
              "235255     1     29995        1.0        0.0        0.0        0.0        1.0   \n",
              "235256     2     29995        0.0        0.0        0.0        0.0        0.0   \n",
              "235257     1     29995        0.0        0.0        0.0        0.0        0.0   \n",
              "\n",
              "        feature_5  feature_6  feature_7  ...  feature_134  feature_135  \\\n",
              "0        0.333333        0.0   0.333333  ...          0.0     0.000000   \n",
              "1        1.000000        0.0   1.000000  ...          0.0     0.000000   \n",
              "2        1.000000        0.0   0.666667  ...          0.0     0.000000   \n",
              "3        1.000000        0.0   1.000000  ...          0.0     0.000000   \n",
              "4        1.000000        0.0   1.000000  ...        273.0    79.670665   \n",
              "...           ...        ...        ...  ...          ...          ...   \n",
              "235253   0.500000        0.0   0.000000  ...          0.0     0.000000   \n",
              "235254   0.500000        0.0   0.500000  ...          0.0     0.000000   \n",
              "235255   0.500000        0.0   0.000000  ...          0.0     0.000000   \n",
              "235256   0.000000        0.0   0.000000  ...          0.0     0.000000   \n",
              "235257   0.000000        0.0   0.000000  ...          0.0     0.000000   \n",
              "\n",
              "        feature_136  feature_137  feature_138  feature_139  feature_140  \\\n",
              "0          0.454545     0.890238     8.655534     1.000000     0.077778   \n",
              "1          0.000000     0.773976    23.130514     0.000000     0.027826   \n",
              "2          0.000000     0.918308    13.351339     0.000000     0.014925   \n",
              "3          0.000000     0.975355    18.240926     0.000000     0.053140   \n",
              "4          0.200000     0.990119    31.786048     0.333333     0.046512   \n",
              "...             ...          ...          ...          ...          ...   \n",
              "235253     0.000000     0.471409     0.000000     0.000000     0.001350   \n",
              "235254     0.000000     0.471409    39.908056     0.000000     0.004850   \n",
              "235255     0.000000     0.471409     0.000000     0.000000     0.001064   \n",
              "235256     0.000000     0.000000     0.000000     0.000000     0.000000   \n",
              "235257     0.000000     0.000000     0.000000     0.000000     0.000000   \n",
              "\n",
              "        feature_141  feature_142  feature_143  \n",
              "0          0.002222          1.0     0.333333  \n",
              "1          0.000430         44.0    14.666667  \n",
              "2          0.000104         22.0     7.333333  \n",
              "3          0.000255          8.0     2.666667  \n",
              "4          0.000307         24.0     8.000000  \n",
              "...             ...          ...          ...  \n",
              "235253     0.000002          3.0     1.500000  \n",
              "235254     0.000014          9.0     4.500000  \n",
              "235255     0.000001          1.0     0.500000  \n",
              "235256     0.000000          0.0     0.000000  \n",
              "235257     0.000000          0.0     0.000000  \n",
              "\n",
              "[235258 rows x 146 columns]"
            ],
            "text/html": [
              "\n",
              "  <div id=\"df-c1196835-413d-4b05-b3e1-a32dcfc38500\" class=\"colab-df-container\">\n",
              "    <div>\n",
              "<style scoped>\n",
              "    .dataframe tbody tr th:only-of-type {\n",
              "        vertical-align: middle;\n",
              "    }\n",
              "\n",
              "    .dataframe tbody tr th {\n",
              "        vertical-align: top;\n",
              "    }\n",
              "\n",
              "    .dataframe thead th {\n",
              "        text-align: right;\n",
              "    }\n",
              "</style>\n",
              "<table border=\"1\" class=\"dataframe\">\n",
              "  <thead>\n",
              "    <tr style=\"text-align: right;\">\n",
              "      <th></th>\n",
              "      <th>rank</th>\n",
              "      <th>query_id</th>\n",
              "      <th>feature_0</th>\n",
              "      <th>feature_1</th>\n",
              "      <th>feature_2</th>\n",
              "      <th>feature_3</th>\n",
              "      <th>feature_4</th>\n",
              "      <th>feature_5</th>\n",
              "      <th>feature_6</th>\n",
              "      <th>feature_7</th>\n",
              "      <th>...</th>\n",
              "      <th>feature_134</th>\n",
              "      <th>feature_135</th>\n",
              "      <th>feature_136</th>\n",
              "      <th>feature_137</th>\n",
              "      <th>feature_138</th>\n",
              "      <th>feature_139</th>\n",
              "      <th>feature_140</th>\n",
              "      <th>feature_141</th>\n",
              "      <th>feature_142</th>\n",
              "      <th>feature_143</th>\n",
              "    </tr>\n",
              "  </thead>\n",
              "  <tbody>\n",
              "    <tr>\n",
              "      <th>0</th>\n",
              "      <td>0</td>\n",
              "      <td>10</td>\n",
              "      <td>1.0</td>\n",
              "      <td>0.0</td>\n",
              "      <td>1.0</td>\n",
              "      <td>3.0</td>\n",
              "      <td>3.0</td>\n",
              "      <td>0.333333</td>\n",
              "      <td>0.0</td>\n",
              "      <td>0.333333</td>\n",
              "      <td>...</td>\n",
              "      <td>0.0</td>\n",
              "      <td>0.000000</td>\n",
              "      <td>0.454545</td>\n",
              "      <td>0.890238</td>\n",
              "      <td>8.655534</td>\n",
              "      <td>1.000000</td>\n",
              "      <td>0.077778</td>\n",
              "      <td>0.002222</td>\n",
              "      <td>1.0</td>\n",
              "      <td>0.333333</td>\n",
              "    </tr>\n",
              "    <tr>\n",
              "      <th>1</th>\n",
              "      <td>1</td>\n",
              "      <td>10</td>\n",
              "      <td>3.0</td>\n",
              "      <td>0.0</td>\n",
              "      <td>3.0</td>\n",
              "      <td>0.0</td>\n",
              "      <td>3.0</td>\n",
              "      <td>1.000000</td>\n",
              "      <td>0.0</td>\n",
              "      <td>1.000000</td>\n",
              "      <td>...</td>\n",
              "      <td>0.0</td>\n",
              "      <td>0.000000</td>\n",
              "      <td>0.000000</td>\n",
              "      <td>0.773976</td>\n",
              "      <td>23.130514</td>\n",
              "      <td>0.000000</td>\n",
              "      <td>0.027826</td>\n",
              "      <td>0.000430</td>\n",
              "      <td>44.0</td>\n",
              "      <td>14.666667</td>\n",
              "    </tr>\n",
              "    <tr>\n",
              "      <th>2</th>\n",
              "      <td>0</td>\n",
              "      <td>10</td>\n",
              "      <td>3.0</td>\n",
              "      <td>0.0</td>\n",
              "      <td>2.0</td>\n",
              "      <td>0.0</td>\n",
              "      <td>3.0</td>\n",
              "      <td>1.000000</td>\n",
              "      <td>0.0</td>\n",
              "      <td>0.666667</td>\n",
              "      <td>...</td>\n",
              "      <td>0.0</td>\n",
              "      <td>0.000000</td>\n",
              "      <td>0.000000</td>\n",
              "      <td>0.918308</td>\n",
              "      <td>13.351339</td>\n",
              "      <td>0.000000</td>\n",
              "      <td>0.014925</td>\n",
              "      <td>0.000104</td>\n",
              "      <td>22.0</td>\n",
              "      <td>7.333333</td>\n",
              "    </tr>\n",
              "    <tr>\n",
              "      <th>3</th>\n",
              "      <td>1</td>\n",
              "      <td>10</td>\n",
              "      <td>3.0</td>\n",
              "      <td>0.0</td>\n",
              "      <td>3.0</td>\n",
              "      <td>0.0</td>\n",
              "      <td>3.0</td>\n",
              "      <td>1.000000</td>\n",
              "      <td>0.0</td>\n",
              "      <td>1.000000</td>\n",
              "      <td>...</td>\n",
              "      <td>0.0</td>\n",
              "      <td>0.000000</td>\n",
              "      <td>0.000000</td>\n",
              "      <td>0.975355</td>\n",
              "      <td>18.240926</td>\n",
              "      <td>0.000000</td>\n",
              "      <td>0.053140</td>\n",
              "      <td>0.000255</td>\n",
              "      <td>8.0</td>\n",
              "      <td>2.666667</td>\n",
              "    </tr>\n",
              "    <tr>\n",
              "      <th>4</th>\n",
              "      <td>2</td>\n",
              "      <td>10</td>\n",
              "      <td>3.0</td>\n",
              "      <td>0.0</td>\n",
              "      <td>3.0</td>\n",
              "      <td>1.0</td>\n",
              "      <td>3.0</td>\n",
              "      <td>1.000000</td>\n",
              "      <td>0.0</td>\n",
              "      <td>1.000000</td>\n",
              "      <td>...</td>\n",
              "      <td>273.0</td>\n",
              "      <td>79.670665</td>\n",
              "      <td>0.200000</td>\n",
              "      <td>0.990119</td>\n",
              "      <td>31.786048</td>\n",
              "      <td>0.333333</td>\n",
              "      <td>0.046512</td>\n",
              "      <td>0.000307</td>\n",
              "      <td>24.0</td>\n",
              "      <td>8.000000</td>\n",
              "    </tr>\n",
              "    <tr>\n",
              "      <th>...</th>\n",
              "      <td>...</td>\n",
              "      <td>...</td>\n",
              "      <td>...</td>\n",
              "      <td>...</td>\n",
              "      <td>...</td>\n",
              "      <td>...</td>\n",
              "      <td>...</td>\n",
              "      <td>...</td>\n",
              "      <td>...</td>\n",
              "      <td>...</td>\n",
              "      <td>...</td>\n",
              "      <td>...</td>\n",
              "      <td>...</td>\n",
              "      <td>...</td>\n",
              "      <td>...</td>\n",
              "      <td>...</td>\n",
              "      <td>...</td>\n",
              "      <td>...</td>\n",
              "      <td>...</td>\n",
              "      <td>...</td>\n",
              "      <td>...</td>\n",
              "    </tr>\n",
              "    <tr>\n",
              "      <th>235253</th>\n",
              "      <td>2</td>\n",
              "      <td>29995</td>\n",
              "      <td>1.0</td>\n",
              "      <td>0.0</td>\n",
              "      <td>0.0</td>\n",
              "      <td>0.0</td>\n",
              "      <td>1.0</td>\n",
              "      <td>0.500000</td>\n",
              "      <td>0.0</td>\n",
              "      <td>0.000000</td>\n",
              "      <td>...</td>\n",
              "      <td>0.0</td>\n",
              "      <td>0.000000</td>\n",
              "      <td>0.000000</td>\n",
              "      <td>0.471409</td>\n",
              "      <td>0.000000</td>\n",
              "      <td>0.000000</td>\n",
              "      <td>0.001350</td>\n",
              "      <td>0.000002</td>\n",
              "      <td>3.0</td>\n",
              "      <td>1.500000</td>\n",
              "    </tr>\n",
              "    <tr>\n",
              "      <th>235254</th>\n",
              "      <td>2</td>\n",
              "      <td>29995</td>\n",
              "      <td>1.0</td>\n",
              "      <td>0.0</td>\n",
              "      <td>1.0</td>\n",
              "      <td>0.0</td>\n",
              "      <td>1.0</td>\n",
              "      <td>0.500000</td>\n",
              "      <td>0.0</td>\n",
              "      <td>0.500000</td>\n",
              "      <td>...</td>\n",
              "      <td>0.0</td>\n",
              "      <td>0.000000</td>\n",
              "      <td>0.000000</td>\n",
              "      <td>0.471409</td>\n",
              "      <td>39.908056</td>\n",
              "      <td>0.000000</td>\n",
              "      <td>0.004850</td>\n",
              "      <td>0.000014</td>\n",
              "      <td>9.0</td>\n",
              "      <td>4.500000</td>\n",
              "    </tr>\n",
              "    <tr>\n",
              "      <th>235255</th>\n",
              "      <td>1</td>\n",
              "      <td>29995</td>\n",
              "      <td>1.0</td>\n",
              "      <td>0.0</td>\n",
              "      <td>0.0</td>\n",
              "      <td>0.0</td>\n",
              "      <td>1.0</td>\n",
              "      <td>0.500000</td>\n",
              "      <td>0.0</td>\n",
              "      <td>0.000000</td>\n",
              "      <td>...</td>\n",
              "      <td>0.0</td>\n",
              "      <td>0.000000</td>\n",
              "      <td>0.000000</td>\n",
              "      <td>0.471409</td>\n",
              "      <td>0.000000</td>\n",
              "      <td>0.000000</td>\n",
              "      <td>0.001064</td>\n",
              "      <td>0.000001</td>\n",
              "      <td>1.0</td>\n",
              "      <td>0.500000</td>\n",
              "    </tr>\n",
              "    <tr>\n",
              "      <th>235256</th>\n",
              "      <td>2</td>\n",
              "      <td>29995</td>\n",
              "      <td>0.0</td>\n",
              "      <td>0.0</td>\n",
              "      <td>0.0</td>\n",
              "      <td>0.0</td>\n",
              "      <td>0.0</td>\n",
              "      <td>0.000000</td>\n",
              "      <td>0.0</td>\n",
              "      <td>0.000000</td>\n",
              "      <td>...</td>\n",
              "      <td>0.0</td>\n",
              "      <td>0.000000</td>\n",
              "      <td>0.000000</td>\n",
              "      <td>0.000000</td>\n",
              "      <td>0.000000</td>\n",
              "      <td>0.000000</td>\n",
              "      <td>0.000000</td>\n",
              "      <td>0.000000</td>\n",
              "      <td>0.0</td>\n",
              "      <td>0.000000</td>\n",
              "    </tr>\n",
              "    <tr>\n",
              "      <th>235257</th>\n",
              "      <td>1</td>\n",
              "      <td>29995</td>\n",
              "      <td>0.0</td>\n",
              "      <td>0.0</td>\n",
              "      <td>0.0</td>\n",
              "      <td>0.0</td>\n",
              "      <td>0.0</td>\n",
              "      <td>0.000000</td>\n",
              "      <td>0.0</td>\n",
              "      <td>0.000000</td>\n",
              "      <td>...</td>\n",
              "      <td>0.0</td>\n",
              "      <td>0.000000</td>\n",
              "      <td>0.000000</td>\n",
              "      <td>0.000000</td>\n",
              "      <td>0.000000</td>\n",
              "      <td>0.000000</td>\n",
              "      <td>0.000000</td>\n",
              "      <td>0.000000</td>\n",
              "      <td>0.0</td>\n",
              "      <td>0.000000</td>\n",
              "    </tr>\n",
              "  </tbody>\n",
              "</table>\n",
              "<p>235258 rows × 146 columns</p>\n",
              "</div>\n",
              "    <div class=\"colab-df-buttons\">\n",
              "\n",
              "  <div class=\"colab-df-container\">\n",
              "    <button class=\"colab-df-convert\" onclick=\"convertToInteractive('df-c1196835-413d-4b05-b3e1-a32dcfc38500')\"\n",
              "            title=\"Convert this dataframe to an interactive table.\"\n",
              "            style=\"display:none;\">\n",
              "\n",
              "  <svg xmlns=\"http://www.w3.org/2000/svg\" height=\"24px\" viewBox=\"0 -960 960 960\">\n",
              "    <path d=\"M120-120v-720h720v720H120Zm60-500h600v-160H180v160Zm220 220h160v-160H400v160Zm0 220h160v-160H400v160ZM180-400h160v-160H180v160Zm440 0h160v-160H620v160ZM180-180h160v-160H180v160Zm440 0h160v-160H620v160Z\"/>\n",
              "  </svg>\n",
              "    </button>\n",
              "\n",
              "  <style>\n",
              "    .colab-df-container {\n",
              "      display:flex;\n",
              "      gap: 12px;\n",
              "    }\n",
              "\n",
              "    .colab-df-convert {\n",
              "      background-color: #E8F0FE;\n",
              "      border: none;\n",
              "      border-radius: 50%;\n",
              "      cursor: pointer;\n",
              "      display: none;\n",
              "      fill: #1967D2;\n",
              "      height: 32px;\n",
              "      padding: 0 0 0 0;\n",
              "      width: 32px;\n",
              "    }\n",
              "\n",
              "    .colab-df-convert:hover {\n",
              "      background-color: #E2EBFA;\n",
              "      box-shadow: 0px 1px 2px rgba(60, 64, 67, 0.3), 0px 1px 3px 1px rgba(60, 64, 67, 0.15);\n",
              "      fill: #174EA6;\n",
              "    }\n",
              "\n",
              "    .colab-df-buttons div {\n",
              "      margin-bottom: 4px;\n",
              "    }\n",
              "\n",
              "    [theme=dark] .colab-df-convert {\n",
              "      background-color: #3B4455;\n",
              "      fill: #D2E3FC;\n",
              "    }\n",
              "\n",
              "    [theme=dark] .colab-df-convert:hover {\n",
              "      background-color: #434B5C;\n",
              "      box-shadow: 0px 1px 3px 1px rgba(0, 0, 0, 0.15);\n",
              "      filter: drop-shadow(0px 1px 2px rgba(0, 0, 0, 0.3));\n",
              "      fill: #FFFFFF;\n",
              "    }\n",
              "  </style>\n",
              "\n",
              "    <script>\n",
              "      const buttonEl =\n",
              "        document.querySelector('#df-c1196835-413d-4b05-b3e1-a32dcfc38500 button.colab-df-convert');\n",
              "      buttonEl.style.display =\n",
              "        google.colab.kernel.accessAllowed ? 'block' : 'none';\n",
              "\n",
              "      async function convertToInteractive(key) {\n",
              "        const element = document.querySelector('#df-c1196835-413d-4b05-b3e1-a32dcfc38500');\n",
              "        const dataTable =\n",
              "          await google.colab.kernel.invokeFunction('convertToInteractive',\n",
              "                                                    [key], {});\n",
              "        if (!dataTable) return;\n",
              "\n",
              "        const docLinkHtml = 'Like what you see? Visit the ' +\n",
              "          '<a target=\"_blank\" href=https://colab.research.google.com/notebooks/data_table.ipynb>data table notebook</a>'\n",
              "          + ' to learn more about interactive tables.';\n",
              "        element.innerHTML = '';\n",
              "        dataTable['output_type'] = 'display_data';\n",
              "        await google.colab.output.renderOutput(dataTable, element);\n",
              "        const docLink = document.createElement('div');\n",
              "        docLink.innerHTML = docLinkHtml;\n",
              "        element.appendChild(docLink);\n",
              "      }\n",
              "    </script>\n",
              "  </div>\n",
              "\n",
              "\n",
              "<div id=\"df-f0d44c52-5615-4b3d-938e-f47f74580479\">\n",
              "  <button class=\"colab-df-quickchart\" onclick=\"quickchart('df-f0d44c52-5615-4b3d-938e-f47f74580479')\"\n",
              "            title=\"Suggest charts\"\n",
              "            style=\"display:none;\">\n",
              "\n",
              "<svg xmlns=\"http://www.w3.org/2000/svg\" height=\"24px\"viewBox=\"0 0 24 24\"\n",
              "     width=\"24px\">\n",
              "    <g>\n",
              "        <path d=\"M19 3H5c-1.1 0-2 .9-2 2v14c0 1.1.9 2 2 2h14c1.1 0 2-.9 2-2V5c0-1.1-.9-2-2-2zM9 17H7v-7h2v7zm4 0h-2V7h2v10zm4 0h-2v-4h2v4z\"/>\n",
              "    </g>\n",
              "</svg>\n",
              "  </button>\n",
              "\n",
              "<style>\n",
              "  .colab-df-quickchart {\n",
              "      --bg-color: #E8F0FE;\n",
              "      --fill-color: #1967D2;\n",
              "      --hover-bg-color: #E2EBFA;\n",
              "      --hover-fill-color: #174EA6;\n",
              "      --disabled-fill-color: #AAA;\n",
              "      --disabled-bg-color: #DDD;\n",
              "  }\n",
              "\n",
              "  [theme=dark] .colab-df-quickchart {\n",
              "      --bg-color: #3B4455;\n",
              "      --fill-color: #D2E3FC;\n",
              "      --hover-bg-color: #434B5C;\n",
              "      --hover-fill-color: #FFFFFF;\n",
              "      --disabled-bg-color: #3B4455;\n",
              "      --disabled-fill-color: #666;\n",
              "  }\n",
              "\n",
              "  .colab-df-quickchart {\n",
              "    background-color: var(--bg-color);\n",
              "    border: none;\n",
              "    border-radius: 50%;\n",
              "    cursor: pointer;\n",
              "    display: none;\n",
              "    fill: var(--fill-color);\n",
              "    height: 32px;\n",
              "    padding: 0;\n",
              "    width: 32px;\n",
              "  }\n",
              "\n",
              "  .colab-df-quickchart:hover {\n",
              "    background-color: var(--hover-bg-color);\n",
              "    box-shadow: 0 1px 2px rgba(60, 64, 67, 0.3), 0 1px 3px 1px rgba(60, 64, 67, 0.15);\n",
              "    fill: var(--button-hover-fill-color);\n",
              "  }\n",
              "\n",
              "  .colab-df-quickchart-complete:disabled,\n",
              "  .colab-df-quickchart-complete:disabled:hover {\n",
              "    background-color: var(--disabled-bg-color);\n",
              "    fill: var(--disabled-fill-color);\n",
              "    box-shadow: none;\n",
              "  }\n",
              "\n",
              "  .colab-df-spinner {\n",
              "    border: 2px solid var(--fill-color);\n",
              "    border-color: transparent;\n",
              "    border-bottom-color: var(--fill-color);\n",
              "    animation:\n",
              "      spin 1s steps(1) infinite;\n",
              "  }\n",
              "\n",
              "  @keyframes spin {\n",
              "    0% {\n",
              "      border-color: transparent;\n",
              "      border-bottom-color: var(--fill-color);\n",
              "      border-left-color: var(--fill-color);\n",
              "    }\n",
              "    20% {\n",
              "      border-color: transparent;\n",
              "      border-left-color: var(--fill-color);\n",
              "      border-top-color: var(--fill-color);\n",
              "    }\n",
              "    30% {\n",
              "      border-color: transparent;\n",
              "      border-left-color: var(--fill-color);\n",
              "      border-top-color: var(--fill-color);\n",
              "      border-right-color: var(--fill-color);\n",
              "    }\n",
              "    40% {\n",
              "      border-color: transparent;\n",
              "      border-right-color: var(--fill-color);\n",
              "      border-top-color: var(--fill-color);\n",
              "    }\n",
              "    60% {\n",
              "      border-color: transparent;\n",
              "      border-right-color: var(--fill-color);\n",
              "    }\n",
              "    80% {\n",
              "      border-color: transparent;\n",
              "      border-right-color: var(--fill-color);\n",
              "      border-bottom-color: var(--fill-color);\n",
              "    }\n",
              "    90% {\n",
              "      border-color: transparent;\n",
              "      border-bottom-color: var(--fill-color);\n",
              "    }\n",
              "  }\n",
              "</style>\n",
              "\n",
              "  <script>\n",
              "    async function quickchart(key) {\n",
              "      const quickchartButtonEl =\n",
              "        document.querySelector('#' + key + ' button');\n",
              "      quickchartButtonEl.disabled = true;  // To prevent multiple clicks.\n",
              "      quickchartButtonEl.classList.add('colab-df-spinner');\n",
              "      try {\n",
              "        const charts = await google.colab.kernel.invokeFunction(\n",
              "            'suggestCharts', [key], {});\n",
              "      } catch (error) {\n",
              "        console.error('Error during call to suggestCharts:', error);\n",
              "      }\n",
              "      quickchartButtonEl.classList.remove('colab-df-spinner');\n",
              "      quickchartButtonEl.classList.add('colab-df-quickchart-complete');\n",
              "    }\n",
              "    (() => {\n",
              "      let quickchartButtonEl =\n",
              "        document.querySelector('#df-f0d44c52-5615-4b3d-938e-f47f74580479 button');\n",
              "      quickchartButtonEl.style.display =\n",
              "        google.colab.kernel.accessAllowed ? 'block' : 'none';\n",
              "    })();\n",
              "  </script>\n",
              "</div>\n",
              "    </div>\n",
              "  </div>\n"
            ],
            "application/vnd.google.colaboratory.intrinsic+json": {
              "type": "dataframe",
              "variable_name": "df"
            }
          },
          "metadata": {},
          "execution_count": 4
        }
      ]
    },
    {
      "cell_type": "markdown",
      "source": [
        "# Функции"
      ],
      "metadata": {
        "id": "T8x7HsLx9mBj"
      }
    },
    {
      "cell_type": "markdown",
      "source": [
        "Ниже представлены функции, которые пригодяться для решения задачи"
      ],
      "metadata": {
        "id": "7P4cYGI09nwK"
      }
    },
    {
      "cell_type": "code",
      "source": [
        "def drop_count(df):\n",
        "  \"\"\"\n",
        "  Выводит таблицу вида\n",
        "  Имя столбца | Кол-во пропущенных значений | % пропущенных значений | тип данных\n",
        "  \"\"\"\n",
        "  cols_with_missing = [col for col in df.columns\n",
        "                    if df[col].isnull().any()]\n",
        "\n",
        "  col_null_count = []\n",
        "  for col in cols_with_missing:\n",
        "      null_count = df[col].isnull().sum()\n",
        "      col_null_count.append([\n",
        "          col,\n",
        "          null_count,\n",
        "          round(null_count / len(df[col]), 2),\n",
        "          df[col].dtype\n",
        "      ])\n",
        "\n",
        "  col_null_count.sort(key=lambda x: x[1])\n",
        "\n",
        "  return col_null_count"
      ],
      "metadata": {
        "id": "x6x9CPJfPVkI"
      },
      "execution_count": null,
      "outputs": []
    },
    {
      "cell_type": "code",
      "source": [
        "def ndcg(y_score, y_true, k):\n",
        "  \"\"\"\n",
        "  Подсчет ndcg для массива y_score и y_true с параметром k\n",
        "  \"\"\"\n",
        "  order = np.argsort(y_score)[::-1]\n",
        "  y_true = np.take(y_true, order[:k])\n",
        "\n",
        "  gain = 2 ** y_true - 1\n",
        "\n",
        "  discounts = np.log2(np.arange(len(y_true)) + 2)\n",
        "  return np.sum(gain / discounts)\n",
        "\n",
        "def total_ndcg(k, model):\n",
        "  \"\"\"\n",
        "  Подсчет усредненного значения ndcg для всех запросов\n",
        "  \"\"\"\n",
        "  ndcg_ = list()\n",
        "\n",
        "  qid_test = df_test[\"query_id\"].unique()\n",
        "\n",
        "  for i, qid in enumerate(qid_test):\n",
        "      y = y_test[df_test[\"query_id\"] == qid]\n",
        "\n",
        "      if np.sum(y) == 0:\n",
        "          continue\n",
        "\n",
        "      p = model.predict(X_test[df_test[\"query_id\"] == qid])\n",
        "\n",
        "      idcg = ndcg(y, y, k)\n",
        "      ndcg_.append(ndcg(p, y, k) / idcg)\n",
        "\n",
        "  return np.mean(ndcg_)"
      ],
      "metadata": {
        "id": "SXumL99JrUi6"
      },
      "execution_count": null,
      "outputs": []
    },
    {
      "cell_type": "markdown",
      "source": [
        "Функция `print_col_info`, которая ниже, выводит краткую информацию по данным для каждого столбца. Выводит в формате:\n",
        "\n",
        "| Имя столбца | Кол-во уникальных элементов | 10 элементов | список типов, которые присутсвуют в столбце |\n",
        "| -- | -- | -- | -- |\n",
        "\n",
        "Таблица выводиться в сортированном виде по кол-ву уникальных элементов в столбце."
      ],
      "metadata": {
        "id": "iDpu74pQ-1pQ"
      }
    },
    {
      "cell_type": "code",
      "source": [
        "def print_col_info(df):\n",
        "  \"\"\"\n",
        "  Вывод первичных сведений по каждому столбцу\n",
        "  \"\"\"\n",
        "  uniq_col_count = []\n",
        "  for col in df:\n",
        "      uniq_count = df[col].unique()\n",
        "      types = set([type(x) for x in uniq_count])\n",
        "      uniq_col_count.append([col, len(uniq_count), uniq_count[:10], types])\n",
        "\n",
        "  uniq_col_count.sort(key=lambda x: x[1])\n",
        "\n",
        "  print(tabulate(uniq_col_count, headers=['Col', 'Uniq_num', 'Values (top 10)', 'Types']))"
      ],
      "metadata": {
        "id": "p1SoeDPwPWav"
      },
      "execution_count": null,
      "outputs": []
    },
    {
      "cell_type": "markdown",
      "source": [
        "# Анализ данных"
      ],
      "metadata": {
        "id": "bUTjZNC4_xik"
      }
    },
    {
      "cell_type": "markdown",
      "source": [
        "Проверим на наличие пропущенных значений и выведим краткую информацию"
      ],
      "metadata": {
        "id": "TdkUZWas_1mC"
      }
    },
    {
      "cell_type": "code",
      "source": [
        "col_null_count = drop_count(df)\n",
        "print(tabulate(col_null_count, headers=['Col', 'Null Count', 'Null %', 'Type']))"
      ],
      "metadata": {
        "colab": {
          "base_uri": "https://localhost:8080/"
        },
        "id": "rfP8cOP1PYwR",
        "outputId": "9efcc6ad-027d-4c82-9c83-2758356f4b34"
      },
      "execution_count": null,
      "outputs": [
        {
          "output_type": "stream",
          "name": "stdout",
          "text": [
            "Col    Null Count    Null %    Type\n",
            "-----  ------------  --------  ------\n"
          ]
        }
      ]
    },
    {
      "cell_type": "code",
      "source": [
        "print_col_info(df)"
      ],
      "metadata": {
        "colab": {
          "base_uri": "https://localhost:8080/"
        },
        "id": "69yCjj9PPl2Y",
        "outputId": "68dd8389-3373-42a4-f668-87757b6a911a"
      },
      "execution_count": null,
      "outputs": [
        {
          "output_type": "stream",
          "name": "stdout",
          "text": [
            "Col            Uniq_num  Values (top 10)                                                           Types\n",
            "-----------  ----------  ------------------------------------------------------------------------  -------------------------\n",
            "feature_64            1  [0]                                                                       {<class 'numpy.int64'>}\n",
            "feature_65            1  [0]                                                                       {<class 'numpy.int64'>}\n",
            "feature_72            1  [1]                                                                       {<class 'numpy.int64'>}\n",
            "feature_100           1  [0]                                                                       {<class 'numpy.int64'>}\n",
            "feature_95            2  [0. 1.]                                                                   {<class 'numpy.float64'>}\n",
            "feature_96            2  [0. 1.]                                                                   {<class 'numpy.float64'>}\n",
            "feature_97            2  [0. 1.]                                                                   {<class 'numpy.float64'>}\n",
            "feature_98            2  [1. 0.]                                                                   {<class 'numpy.float64'>}\n",
            "feature_99            2  [1. 0.]                                                                   {<class 'numpy.float64'>}\n",
            "rank                  5  [0 1 2 4 3]                                                               {<class 'numpy.int64'>}\n",
            "feature_1            10  [ 0.  1.  3.  2.  4.  5.  6.  7. 18.  9.]                                 {<class 'numpy.float64'>}\n",
            "feature_3            10  [3. 0. 1. 2. 4. 6. 5. 7. 9. 8.]                                           {<class 'numpy.float64'>}\n",
            "feature_28           10  [ 1.  0.  2.  3.  6.  4. 10. 12. 42.  5.]                                 {<class 'numpy.float64'>}\n",
            "feature_33           11  [ 2.  0.  1.  3.  4.  6. 10. 12. 42.  5.]                                 {<class 'numpy.float64'>}\n",
            "feature_23           13  [ 5.  0.  1.  3.  2.  7.  4.  6.  8. 10.]                                 {<class 'numpy.float64'>}\n",
            "feature_2            15  [ 1.  3.  2.  0.  4.  5.  6.  7. 24. 20.]                                 {<class 'numpy.float64'>}\n",
            "feature_0            16  [1. 3. 0. 2. 4. 5. 6. 7. 8. 9.]                                           {<class 'numpy.float64'>}\n",
            "feature_4            16  [3. 0. 2. 1. 4. 5. 6. 7. 8. 9.]                                           {<class 'numpy.float64'>}\n",
            "feature_125          19  [ 3.  4.  2.  1.  5. 11.  6. 10.  9.  7.]                                 {<class 'numpy.float64'>}\n",
            "feature_27           24  [ 0.  1.  2.  4.  3.  6.  5. 10. 12.  7.]                                 {<class 'numpy.float64'>}\n",
            "feature_6            25  [0.       0.333333 1.       0.5      0.666667 0.25     0.75     0.4       {<class 'numpy.float64'>}\n",
            "                          0.2      0.166667]\n",
            "feature_26           26  [0. 3. 1. 2. 6. 7. 5. 4. 8. 9.]                                           {<class 'numpy.float64'>}\n",
            "feature_139          29  [1.       0.       0.333333 0.666667 0.5      0.75     0.25     0.4       {<class 'numpy.float64'>}\n",
            "                          0.8      0.2     ]\n",
            "feature_7            32  [0.333333 1.       0.666667 0.       0.5      0.75     0.25     0.2       {<class 'numpy.float64'>}\n",
            "                          0.4      0.6     ]\n",
            "feature_31           35  [ 0.  1.  3.  2.  4.  7.  5.  6.  9. 11.]                                 {<class 'numpy.float64'>}\n",
            "feature_5            44  [0.333333 1.       0.       0.666667 0.5      0.75     0.25     0.8       {<class 'numpy.float64'>}\n",
            "                          0.4      0.6     ]\n",
            "feature_9            44  [1.       0.       0.666667 0.333333 0.5      0.75     0.25     0.8       {<class 'numpy.float64'>}\n",
            "                          0.4      0.6     ]\n",
            "feature_38           53  [1.666667 0.       0.333333 1.       0.666667 0.5      1.5      2.333333  {<class 'numpy.float64'>}\n",
            "                          2.       1.333333]\n",
            "feature_21           54  [0. 1. 9. 3. 2. 6. 4. 7. 5. 8.]                                           {<class 'numpy.float64'>}\n",
            "feature_43           59  [0.222222 0.       0.888889 0.25     1.       0.666667 1.555556 0.5       {<class 'numpy.float64'>}\n",
            "                          0.1875   0.75    ]\n",
            "feature_13           60  [11.  8.  5.  4.  7.  6.  9.  3. 15. 12.]                                 {<class 'numpy.float64'>}\n",
            "feature_32           60  [ 1.  2.  0. 11.  8.  3.  4. 10.  5. 39.]                                 {<class 'numpy.float64'>}\n",
            "feature_22           73  [ 1.  4.  2.  3.  5.  0.  6. 13. 12.  7.]                                 {<class 'numpy.float64'>}\n",
            "feature_53           77  [0.090909 0.       0.125    0.076923 0.071429 0.083333 0.142857 0.166667  {<class 'numpy.float64'>}\n",
            "                          0.111111 0.2     ]\n",
            "feature_58          111  [0.181818 0.       0.2      0.125    0.142857 0.111111 0.166667 0.25      {<class 'numpy.float64'>}\n",
            "                          0.083333 0.153846]\n",
            "feature_128         120  [ 0.  9.  1.  4. 11.  2.  6.  3. 33. 16.]                                 {<class 'numpy.float64'>}\n",
            "feature_36          125  [0.       0.333333 3.       1.       0.666667 0.5      2.       1.333333  {<class 'numpy.float64'>}\n",
            "                          2.333333 1.666667]\n",
            "feature_37          153  [0.333333 1.333333 0.666667 1.       1.666667 0.       2.       0.5       {<class 'numpy.float64'>}\n",
            "                          1.5      6.5     ]\n",
            "feature_11          156  [ 0.  1.  3. 12.  5.  2.  9.  4.  8.  7.]                                 {<class 'numpy.float64'>}\n",
            "feature_136         162  [0.454545 0.       0.2      0.125    0.142857 0.111111 0.166667 0.25      {<class 'numpy.float64'>}\n",
            "                          0.375    0.083333]\n",
            "feature_25          215  [ 0.  6.  1.  2.  3.  5.  7. 11. 23. 13.]                                 {<class 'numpy.float64'>}\n",
            "feature_29          216  [ 1.  7.  3.  4.  6.  2.  0.  9. 12. 28.]                                 {<class 'numpy.float64'>}\n",
            "feature_41          226  [ 0.        0.222222  0.888889  2.        0.25      2.888889 10.888889    {<class 'numpy.float64'>}\n",
            "                           1.        6.25      4.      ]\n",
            "feature_132         253  [104.   2.  11.   3.   1.   6.  39.   5.  26.  16.]                       {<class 'numpy.float64'>}\n",
            "feature_131         254  [17.  5. 11.  1. 31. 84. 10.  2. 18. 15.]                                 {<class 'numpy.float64'>}\n",
            "feature_12          281  [ 9.  7.  6.  5.  2.  3. 18.  4. 13. 12.]                                 {<class 'numpy.float64'>}\n",
            "feature_42          290  [ 0.222222  0.        0.888889  0.666667  0.25     20.25      8.666667    {<class 'numpy.float64'>}\n",
            "                           2.        1.555556 14.222222]\n",
            "feature_126         290  [76. 73. 54. 36. 21. 16. 35. 39. 43. 40.]                                 {<class 'numpy.float64'>}\n",
            "feature_51          298  [0.       0.25     0.333333 0.125    0.142857 0.5      0.111111 0.1       {<class 'numpy.float64'>}\n",
            "                          0.2      0.055556]\n",
            "feature_63          313  [0.151515 0.       0.066667 0.041667 0.047619 0.037037 0.055556 0.083333  {<class 'numpy.float64'>}\n",
            "                          0.125    0.027778]\n",
            "feature_52          360  [0.       0.142857 0.2      0.166667 0.333333 0.055556 0.222222 0.25      {<class 'numpy.float64'>}\n",
            "                          0.076923 0.125   ]\n",
            "feature_34          386  [ 4. 33. 15.  5. 14.  0. 25. 13.  8. 44.]                                 {<class 'numpy.float64'>}\n",
            "feature_30          387  [ 1. 31. 14.  4. 11. 12.  3.  0. 23.  7.]                                 {<class 'numpy.float64'>}\n",
            "feature_56          435  [0.       0.333333 0.25     0.5      0.125    1.       0.666667 0.111111  {<class 'numpy.float64'>}\n",
            "                          0.2      0.142857]\n",
            "feature_68          459  [0.001837 0.       0.008889 0.003472 0.004535 0.002743 0.006173 0.013889  {<class 'numpy.float64'>}\n",
            "                          0.001543 0.001315]\n",
            "feature_142         529  [ 1. 44. 22.  8. 24. 28.  5.  0.  9. 30.]                                 {<class 'numpy.float64'>}\n",
            "feature_24          532  [ 7. 48. 24. 11. 30. 33.  8.  0.  6.  9.]                                 {<class 'numpy.float64'>}\n",
            "feature_46          555  [0.       0.333333 0.75     1.       0.5      0.375    0.666667 0.25      {<class 'numpy.float64'>}\n",
            "                          0.111111 0.2     ]\n",
            "feature_57          563  [0.111111 0.285714 0.166667 0.2      0.4      0.       0.333333 0.222222  {<class 'numpy.float64'>}\n",
            "                          0.25     0.142857]\n",
            "feature_47          700  [0.111111 0.571429 0.333333 0.6      0.714286 0.8      0.5      0.        {<class 'numpy.float64'>}\n",
            "                          0.166667 1.      ]\n",
            "feature_61          702  [0.       0.111111 0.25     0.333333 0.166667 0.125    0.222222 0.083333  {<class 'numpy.float64'>}\n",
            "                          0.037037 0.066667]\n",
            "feature_62          936  [0.037037 0.190476 0.111111 0.2      0.238095 0.266667 0.166667 0.        {<class 'numpy.float64'>}\n",
            "                          0.055556 0.333333]\n",
            "feature_66          972  [0.       0.024691 0.055556 0.222222 0.098765 0.013889 0.002743 0.008889  {<class 'numpy.float64'>}\n",
            "                          0.25     0.0625  ]\n",
            "feature_67         1383  [0.002743 0.004535 0.006173 0.       0.008889 0.000686 0.055556 0.024691  {<class 'numpy.float64'>}\n",
            "                          0.013889 0.002222]\n",
            "feature_143        1431  [ 0.333333 14.666667  7.333333  2.666667  8.        9.333333  1.666667    {<class 'numpy.float64'>}\n",
            "                           0.        3.       10.      ]\n",
            "feature_39         1464  [ 2.333333 16.        8.        3.666667 10.       11.        2.666667    {<class 'numpy.float64'>}\n",
            "                           0.        2.        3.      ]\n",
            "feature_78         1531  [ 6.316804  0.        5.455753  9.667404  9.543088 11.517928  7.959774    {<class 'numpy.float64'>}\n",
            "                          15.919549  3.521784  6.67236 ]\n",
            "feature_16         1790  [22.240604 32.499462 25.496598 21.285397 24.975826 20.391886 21.809349    {<class 'numpy.float64'>}\n",
            "                          15.921736 23.247299 27.915657]\n",
            "feature_17         1809  [18.240926 29.199486 22.201957 20.207206 22.944452 17.000402 19.49537     {<class 'numpy.float64'>}\n",
            "                          14.238154 20.399276 24.376937]\n",
            "feature_18         1813  [21.439961 31.942644 24.045847 21.061016 25.449131 19.12415  20.264725    {<class 'numpy.float64'>}\n",
            "                          15.419804 22.397595 26.339297]\n",
            "feature_133        1887  [0.000e+00 2.175e+03 5.000e+00 1.600e+01 2.241e+03 2.000e+00 2.600e+01    {<class 'numpy.float64'>}\n",
            "                          1.200e+01 1.000e+00 1.300e+02]\n",
            "feature_19         1901  [ 8.194138 18.728818 11.44304  12.166007 10.37536   6.726185 11.698152    {<class 'numpy.float64'>}\n",
            "                           6.878691 10.09773  14.384723]\n",
            "feature_15         1903  [ 8.198216 18.731221 11.446561 12.168318 10.377207  6.73438  11.712051    {<class 'numpy.float64'>}\n",
            "                           6.883275 10.100711 14.387253]\n",
            "query_id           2000  [ 10  25  40  55  70  85 100 115 130 145]                                 {<class 'numpy.int64'>}\n",
            "feature_134        2244  [0.000e+00 2.730e+02 3.000e+00 2.180e+02 1.000e+00 4.000e+00 1.200e+01    {<class 'numpy.float64'>}\n",
            "                          2.388e+03 3.180e+02 1.500e+01]\n",
            "feature_76         2390  [ 0.       17.92008   5.97336   9.488789 15.732149  7.866074  4.279298    {<class 'numpy.float64'>}\n",
            "                           8.080017 16.160033  7.835951]\n",
            "feature_77         2961  [ 0.        4.695805  4.889588  9.391609  7.751924  8.981725 11.22548     {<class 'numpy.float64'>}\n",
            "                          22.45096   7.05165   7.595034]\n",
            "feature_83         3805  [19.334808  0.        9.667404  5.455753  6.316804 12.633609  9.670251    {<class 'numpy.float64'>}\n",
            "                           7.962586  5.543718 10.029687]\n",
            "feature_141        4703  [2.222e-03 4.300e-04 1.040e-04 2.550e-04 3.070e-04 9.300e-05 2.300e-05    {<class 'numpy.float64'>}\n",
            "                          0.000e+00 2.000e-06 4.000e-05]\n",
            "feature_69         4874  [1.728e-03 4.380e-04 1.140e-04 1.870e-04 4.040e-04 1.280e-04 2.100e-05    {<class 'numpy.float64'>}\n",
            "                          0.000e+00 3.000e-06 3.500e-05]\n",
            "feature_10         5124  [  10.  557.  522.   59.  203.  321.  195.  919.  129. 1204.]             {<class 'numpy.float64'>}\n",
            "feature_14         5174  [ 30. 575. 536.  69. 215. 331. 205.  19. 929. 139.]                       {<class 'numpy.float64'>}\n",
            "feature_81         5424  [ 0.        9.841587 29.524761  6.425657 19.683174  5.97336   6.24552     {<class 'numpy.float64'>}\n",
            "                          21.833644 32.750466 10.916822]\n",
            "feature_101        5567  [0.       0.746346 1.       0.487425 0.453194 0.414057 0.72349  0.779174  {<class 'numpy.float64'>}\n",
            "                          0.626807 0.630327]\n",
            "feature_103        6670  [0.971298 0.       0.756753 0.427408 1.       0.494618 0.94486  0.508797  {<class 'numpy.float64'>}\n",
            "                          0.41897  0.389221]\n",
            "feature_82         6780  [ 8.655534  9.779175 17.311069  9.391609  0.        4.695805  4.889588    {<class 'numpy.float64'>}\n",
            "                           5.980245  8.909434 14.309806]\n",
            "feature_73         7728  [36.563118  0.        9.667404  5.455753 21.439961  6.316804 33.212519    {<class 'numpy.float64'>}\n",
            "                           9.670251  7.962586  5.543718]\n",
            "feature_93         8173  [29.05908   0.       20.7686    6.614498  3.300659  8.867115  1.479089    {<class 'numpy.float64'>}\n",
            "                          20.780836 14.089507  6.829514]\n",
            "feature_40         8204  [  0.222222 133.555556  28.222222   0.888889  12.666667   9.555556        {<class 'numpy.float64'>}\n",
            "                            0.         1.555556   0.666667  84.666667]\n",
            "feature_88         8611  [12.187706  0.        3.222468  1.818584  7.146654  2.105601 11.07084     {<class 'numpy.float64'>}\n",
            "                           3.223417  2.654195  1.847906]\n",
            "feature_91         8631  [  0.        21.523741  26.836329   2.981814   9.175349  86.094964        {<class 'numpy.float64'>}\n",
            "                            7.929117   8.668114 105.935111 238.353999]\n",
            "feature_44         8696  [  1.555556 144.666667  32.666667   0.888889  18.666667  14.              {<class 'numpy.float64'>}\n",
            "                            0.         2.666667   0.666667  93.555556]\n",
            "feature_71         8705  [ 0.        9.841587 66.721812 22.240604  6.425657 19.683174  5.97336     {<class 'numpy.float64'>}\n",
            "                           6.24552  21.833644 32.750466]\n",
            "feature_86         9399  [ 0.        3.280529 22.240604  7.413535  2.141886  6.561058  1.99112     {<class 'numpy.float64'>}\n",
            "                           2.08184   7.277881 10.916822]\n",
            "feature_127       11338  [0.000e+00 8.000e+00 6.000e+00 1.896e+03 7.000e+00 5.840e+02 1.000e+00    {<class 'numpy.float64'>}\n",
            "                          9.500e+01 2.070e+03 1.000e+01]\n",
            "feature_102       11836  [0.786755 0.94887  0.895471 1.       0.978111 0.950529 0.       0.427651  {<class 'numpy.float64'>}\n",
            "                          0.617266 0.44512 ]\n",
            "feature_138       15817  [ 8.655534 23.130514 13.351339 18.240926 31.786048 22.936731  0.          {<class 'numpy.float64'>}\n",
            "                           4.695805 36.481853  9.585392]\n",
            "feature_92        16192  [16.648505  4.753632 12.516479  3.322152 26.857218  3.88804   0.          {<class 'numpy.float64'>}\n",
            "                           4.900129 13.288607  5.110689]\n",
            "feature_87        16844  [ 2.885178  7.710171  4.450446  6.080309 10.595349  7.645577  0.          {<class 'numpy.float64'>}\n",
            "                           1.565268 12.160618  3.195131]\n",
            "feature_121       16956  [-23.636237 -20.220496  -4.474281  -3.611406 -19.815033  -6.55304         {<class 'numpy.float64'>}\n",
            "                          -22.95955  -19.527352   0.       -27.371385]\n",
            "feature_106       18900  [ 0.       10.800722 22.768043 24.408116  7.051885 14.496515 12.963949    {<class 'numpy.float64'>}\n",
            "                          10.133843 16.444972  5.825651]\n",
            "feature_116       20474  [-24.810069 -21.978025 -18.697773 -20.937474 -24.643151 -21.305554        {<class 'numpy.float64'>}\n",
            "                          -20.944954 -21.304057   0.       -27.957253]\n",
            "feature_111       20535  [-20.839029 -17.427156  -4.953187  -6.897021 -16.823971  -9.821748        {<class 'numpy.float64'>}\n",
            "                          -20.164307 -16.771866   0.       -24.571443]\n",
            "feature_50        22222  [0.       0.010772 0.001916 0.033898 0.014778 0.015576 0.005128 0.015504  {<class 'numpy.float64'>}\n",
            "                          0.002492 0.010324]\n",
            "feature_54        24042  [0.033333 0.012174 0.001866 0.043478 0.018605 0.018127 0.009756 0.        {<class 'numpy.float64'>}\n",
            "                          0.014388 0.003279]\n",
            "feature_135       25333  [ 0.         79.67066531 16.2        55.06994598  3.          3.8         {<class 'numpy.float64'>}\n",
            "                           5.8        71.23809524 85.29086249 60.0168779 ]\n",
            "feature_123       28626  [ -6.122882 -26.827529 -22.302319 -26.49117  -22.77232  -22.63879         {<class 'numpy.float64'>}\n",
            "                          -22.890103 -22.48464  -22.079177  -6.553746]\n",
            "feature_108       28961  [26.350077  0.       12.696249  7.165067 10.058084 10.806587  9.406552    {<class 'numpy.float64'>}\n",
            "                          11.675452 13.912645 22.306394]\n",
            "feature_75        30724  [0.       4.141566 2.324561 1.380522 2.070783 8.283132 2.761044 4.831827  {<class 'numpy.float64'>}\n",
            "                          7.592871 5.522088]\n",
            "feature_118       33007  [-20.642055 -27.079631 -23.5754   -27.07664  -23.579885 -23.578391        {<class 'numpy.float64'>}\n",
            "                          -23.581379 -23.576895 -23.573903 -21.725192]\n",
            "feature_79        33121  [ 1.375925  4.815739  2.323455  2.063888  2.751851 10.31944   0.          {<class 'numpy.float64'>}\n",
            "                           6.191664  8.255552 35.774058]\n",
            "feature_113       34464  [ -7.86572  -24.02642  -19.509025 -23.692311 -19.978975 -19.845462        {<class 'numpy.float64'>}\n",
            "                          -20.09674  -19.691329 -19.2859    -9.836439]\n",
            "feature_55        37626  [0.1      0.055655 0.02682  0.067797 0.054187 0.037383 0.015385 0.        {<class 'numpy.float64'>}\n",
            "                          0.003264 0.031008]\n",
            "feature_60        39129  [0.033333 0.026332 0.014049 0.045198 0.039409 0.029076 0.008547 0.        {<class 'numpy.float64'>}\n",
            "                          0.001814 0.023256]\n",
            "feature_59        39618  [0.133333 0.057391 0.027985 0.072464 0.065116 0.045317 0.019512 0.        {<class 'numpy.float64'>}\n",
            "                          0.004306 0.028777]\n",
            "feature_140       41864  [0.077778 0.027826 0.014925 0.05314  0.046512 0.033233 0.013008 0.        {<class 'numpy.float64'>}\n",
            "                          0.002153 0.021583]\n",
            "feature_45        47103  [0.1      0.078995 0.042146 0.135593 0.118227 0.087227 0.025641 0.        {<class 'numpy.float64'>}\n",
            "                          0.005441 0.069767]\n",
            "feature_49        50128  [0.233333 0.083478 0.044776 0.15942  0.139535 0.099698 0.039024 0.        {<class 'numpy.float64'>}\n",
            "                          0.006459 0.064748]\n",
            "feature_130       52183  [ 3866. 56137. 12621. 40205. 34605. 39496. 20339.  4136. 39933. 48596.]   {<class 'numpy.float64'>}\n",
            "feature_122       53686  [-20.421283  -5.459244 -12.939705  -5.143084  -4.766107  -4.450289        {<class 'numpy.float64'>}\n",
            "                           -5.689787 -23.917189  -3.611132  -8.290399]\n",
            "feature_129       54167  [  153.   266.   541. 14687. 10577.  3736. 11715. 11919. 63657. 46188.]   {<class 'numpy.float64'>}\n",
            "feature_107       58140  [ 7.738967 21.651734 15.027157 22.468922 26.522979 25.241631 20.53047     {<class 'numpy.float64'>}\n",
            "                           0.        5.285207 27.699627]\n",
            "feature_80        61283  [  5.183394  72.061386  72.567523  20.733578  57.017339   0.              {<class 'numpy.float64'>}\n",
            "                            4.649122  10.366789 119.218073  25.916972]\n",
            "feature_117       63166  [-21.077948 -20.081042 -20.741199 -20.355124 -19.412571 -20.106154        {<class 'numpy.float64'>}\n",
            "                          -20.35662  -23.762276 -20.35213  -20.097439]\n",
            "feature_84        64843  [ 20.730882  76.674007  77.740806  25.913602  72.558086  62.192645        {<class 'numpy.float64'>}\n",
            "                           10.365441   0.         4.646909 129.568011]\n",
            "feature_112       68955  [-17.627562  -7.96191  -13.173918  -8.41288   -6.499347  -6.961026        {<class 'numpy.float64'>}\n",
            "                           -8.954418 -21.107222  -6.8913   -10.756872]\n",
            "feature_137       82379  [0.890238 0.773976 0.918308 0.975355 0.990119 0.974819 0.945281 0.        {<class 'numpy.float64'>}\n",
            "                          0.448807 0.975608]\n",
            "feature_104       85663  [0.946833 0.79206  0.918119 0.984724 0.989615 0.97772  0.984476 0.        {<class 'numpy.float64'>}\n",
            "                          0.433516 0.975629]\n",
            "feature_90       118551  [   5.970573  769.584565 1058.720516   71.548251  512.003015  494.093363  {<class 'numpy.float64'>}\n",
            "                             1.991743    0.          3.616701    9.678539]\n",
            "feature_94       125097  [  79.371724  860.715989 1212.898917  105.747626  833.378754  559.13229   {<class 'numpy.float64'>}\n",
            "                            10.473289    0.          3.639744    9.698795]\n",
            "feature_70       127357  [  5.183394 112.486713  79.723911  26.763222  82.333731  76.923275        {<class 'numpy.float64'>}\n",
            "                            9.578738   0.         6.719905  20.101515]\n",
            "feature_85       127923  [ 1.727798 37.495571 26.574637  8.921074 27.444577 25.641092  3.192913    {<class 'numpy.float64'>}\n",
            "                           0.        2.239968  6.700505]\n",
            "feature_74       134650  [ 24.430262 122.951509  85.567962  34.947854 103.191394  86.452813        {<class 'numpy.float64'>}\n",
            "                           17.764201   0.         7.39876   20.087656]\n",
            "feature_89       135276  [ 8.143421 40.983836 28.522654 11.649285 34.397131 28.817604  5.9214      {<class 'numpy.float64'>}\n",
            "                           0.        2.466253  6.695885]\n",
            "feature_120      186488  [-21.995388 -12.102374 -14.476324  -9.772067 -10.449261 -11.132993        {<class 'numpy.float64'>}\n",
            "                          -15.022215 -29.851568 -25.63764  -11.712558]\n",
            "feature_115      191744  [-22.574108 -16.087395 -18.149604 -19.17962  -16.765195 -16.485613        {<class 'numpy.float64'>}\n",
            "                          -20.961803 -26.487567 -25.097879 -19.225053]\n",
            "feature_105      192154  [11.904045 23.900332 21.009703 23.622797 25.870014 24.935021 15.17773     {<class 'numpy.float64'>}\n",
            "                           0.        4.727418 21.329551]\n",
            "feature_110      192331  [-19.20191  -12.01808  -15.320776 -10.483058 -10.506004 -11.077742        {<class 'numpy.float64'>}\n",
            "                          -17.226597 -28.180633 -25.029706 -12.264615]\n",
            "feature_124      198257  [ -8.437561 -11.848628 -14.353039  -9.208571  -9.911815 -10.733324        {<class 'numpy.float64'>}\n",
            "                          -13.503307 -29.845926 -25.36952  -11.936132]\n",
            "feature_119      205419  [-19.589214 -15.792263 -17.982153 -18.418511 -16.177233 -16.051191        {<class 'numpy.float64'>}\n",
            "                          -19.639276 -26.479081 -24.903757 -19.235834]\n",
            "feature_109      206039  [22.92774  24.33978  21.160657 24.653968 26.35397  25.320068 19.560373    {<class 'numpy.float64'>}\n",
            "                           0.        4.917804 21.20934 ]\n",
            "feature_114      206051  [ -9.926361 -11.733085 -15.174661  -9.558375  -9.877307 -10.636294        {<class 'numpy.float64'>}\n",
            "                          -14.189737 -28.170152 -24.704979 -12.486655]\n",
            "feature_8        235258  [0.         0.00425067 0.00850134 0.01275201 0.01700268 0.02125335        {<class 'numpy.float64'>}\n",
            "                          0.02550402 0.02975469 0.03400536 0.03825603]\n",
            "feature_20       235258  [0.00000000e+00 4.25067054e-06 8.50134109e-06 1.27520116e-05              {<class 'numpy.float64'>}\n",
            "                          1.70026822e-05 2.12533527e-05 2.55040233e-05 2.97546938e-05\n",
            "                          3.40053643e-05 3.82560349e-05]\n",
            "feature_35       235258  [ 0.          8.50134109 17.00268217 25.50402326 34.00536435 42.50670543  {<class 'numpy.float64'>}\n",
            "                          51.00804652 59.50938761 68.01072869 76.51206978]\n",
            "feature_48       235258  [ 4.82251955  3.44596454  4.60147643  6.81381257  8.023724   10.6498577   {<class 'numpy.float64'>}\n",
            "                           4.77482517  5.25318537  5.04297672  4.96018273]\n"
          ]
        }
      ]
    },
    {
      "cell_type": "markdown",
      "source": [
        "Можно заметить, что фичи `feature_64`, `feature_65`, `feature_72` и `feature_100` имеют всего одно уникальное значение, поэтому их можно удалить"
      ],
      "metadata": {
        "id": "KwIwRCAo__eC"
      }
    },
    {
      "cell_type": "code",
      "source": [
        "df = df.drop(columns=['feature_64', 'feature_65', 'feature_72', 'feature_100'], axis=1)"
      ],
      "metadata": {
        "id": "GQS4fZKvP25g"
      },
      "execution_count": null,
      "outputs": []
    },
    {
      "cell_type": "markdown",
      "source": [
        "построим матрицу корреляций для поиска малоинформативных фичей"
      ],
      "metadata": {
        "id": "IPZwhn1zAhDT"
      }
    },
    {
      "cell_type": "code",
      "source": [
        "corr_matrix = df.corr()\n",
        "sns.heatmap(corr_matrix)"
      ],
      "metadata": {
        "id": "fFJRGW0DZWIA",
        "colab": {
          "base_uri": "https://localhost:8080/"
        },
        "outputId": "f91510b1-68e2-4de3-a58b-6238d90d734b"
      },
      "execution_count": null,
      "outputs": [
        {
          "output_type": "execute_result",
          "data": {
            "text/plain": [
              "<Axes: >"
            ]
          },
          "metadata": {},
          "execution_count": 11
        },
        {
          "output_type": "display_data",
          "data": {
            "text/plain": [
              "<Figure size 640x480 with 2 Axes>"
            ],
            "image/png": "[encoded data removed]"
          },
          "metadata": {}
        }
      ]
    },
    {
      "cell_type": "markdown",
      "source": [
        "Из-за большой размерности плохо видно значения, но по тепловой карте четко видно, что некоторые параметры сильно коррелируют друг с другом. Найдем те, у которых коеффициент корреляяции больше 0,99 с целью уменьшить размерность пространства."
      ],
      "metadata": {
        "id": "385SMpEmAoKw"
      }
    },
    {
      "cell_type": "code",
      "source": [
        "hight_corr = [(i, j) for i in range(2, corr_matrix.shape[0]) for j in range(i, corr_matrix.shape[1]) if corr_matrix.iloc[i, j] > 0.99 and i != j]\n",
        "len(hight_corr)"
      ],
      "metadata": {
        "colab": {
          "base_uri": "https://localhost:8080/"
        },
        "id": "AR55SvXdZBqC",
        "outputId": "a5db4bb7-3399-41ef-91bc-7801c2907d47"
      },
      "execution_count": null,
      "outputs": [
        {
          "output_type": "execute_result",
          "data": {
            "text/plain": [
              "23"
            ]
          },
          "metadata": {},
          "execution_count": 12
        }
      ]
    },
    {
      "cell_type": "code",
      "source": [
        "corr_mask = np.zeros(corr_matrix.shape)\n",
        "for i, j in hight_corr:\n",
        "  corr_mask[i][j] = 1\n",
        "sns.heatmap(corr_mask)"
      ],
      "metadata": {
        "id": "dGHNJtRRZYMC",
        "colab": {
          "base_uri": "https://localhost:8080/"
        },
        "outputId": "486c35cf-ad34-4a19-e124-cbedbbd28caa"
      },
      "execution_count": null,
      "outputs": [
        {
          "output_type": "execute_result",
          "data": {
            "text/plain": [
              "<Axes: >"
            ]
          },
          "metadata": {},
          "execution_count": 13
        },
        {
          "output_type": "display_data",
          "data": {
            "text/plain": [
              "<Figure size 640x480 with 2 Axes>"
            ],
            "image/png": "[encoded data removed]"
          },
          "metadata": {}
        }
      ]
    },
    {
      "cell_type": "code",
      "source": [
        "cols_indx_for_drop = [df.columns[i[0]] for i in hight_corr]\n",
        "df = df.drop(columns=cols_indx_for_drop, axis=1)\n",
        "df"
      ],
      "metadata": {
        "id": "sWSE594eX0Rb",
        "colab": {
          "base_uri": "https://localhost:8080/"
        },
        "outputId": "87779cb2-d8ae-4e16-c03e-ae37e27c63ff"
      },
      "execution_count": null,
      "outputs": [
        {
          "output_type": "execute_result",
          "data": {
            "text/plain": [
              "        rank  query_id  feature_0  feature_1  feature_2  feature_3  feature_4  \\\n",
              "0          0        10        1.0        0.0        1.0        3.0        3.0   \n",
              "1          1        10        3.0        0.0        3.0        0.0        3.0   \n",
              "2          0        10        3.0        0.0        2.0        0.0        3.0   \n",
              "3          1        10        3.0        0.0        3.0        0.0        3.0   \n",
              "4          2        10        3.0        0.0        3.0        1.0        3.0   \n",
              "...      ...       ...        ...        ...        ...        ...        ...   \n",
              "235253     2     29995        1.0        0.0        0.0        0.0        1.0   \n",
              "235254     2     29995        1.0        0.0        1.0        0.0        1.0   \n",
              "235255     1     29995        1.0        0.0        0.0        0.0        1.0   \n",
              "235256     2     29995        0.0        0.0        0.0        0.0        0.0   \n",
              "235257     1     29995        0.0        0.0        0.0        0.0        0.0   \n",
              "\n",
              "        feature_5  feature_6  feature_7  ...  feature_134  feature_135  \\\n",
              "0        0.333333        0.0   0.333333  ...          0.0     0.000000   \n",
              "1        1.000000        0.0   1.000000  ...          0.0     0.000000   \n",
              "2        1.000000        0.0   0.666667  ...          0.0     0.000000   \n",
              "3        1.000000        0.0   1.000000  ...          0.0     0.000000   \n",
              "4        1.000000        0.0   1.000000  ...        273.0    79.670665   \n",
              "...           ...        ...        ...  ...          ...          ...   \n",
              "235253   0.500000        0.0   0.000000  ...          0.0     0.000000   \n",
              "235254   0.500000        0.0   0.500000  ...          0.0     0.000000   \n",
              "235255   0.500000        0.0   0.000000  ...          0.0     0.000000   \n",
              "235256   0.000000        0.0   0.000000  ...          0.0     0.000000   \n",
              "235257   0.000000        0.0   0.000000  ...          0.0     0.000000   \n",
              "\n",
              "        feature_136  feature_137  feature_138  feature_139  feature_140  \\\n",
              "0          0.454545     0.890238     8.655534     1.000000     0.077778   \n",
              "1          0.000000     0.773976    23.130514     0.000000     0.027826   \n",
              "2          0.000000     0.918308    13.351339     0.000000     0.014925   \n",
              "3          0.000000     0.975355    18.240926     0.000000     0.053140   \n",
              "4          0.200000     0.990119    31.786048     0.333333     0.046512   \n",
              "...             ...          ...          ...          ...          ...   \n",
              "235253     0.000000     0.471409     0.000000     0.000000     0.001350   \n",
              "235254     0.000000     0.471409    39.908056     0.000000     0.004850   \n",
              "235255     0.000000     0.471409     0.000000     0.000000     0.001064   \n",
              "235256     0.000000     0.000000     0.000000     0.000000     0.000000   \n",
              "235257     0.000000     0.000000     0.000000     0.000000     0.000000   \n",
              "\n",
              "        feature_141  feature_142  feature_143  \n",
              "0          0.002222          1.0     0.333333  \n",
              "1          0.000430         44.0    14.666667  \n",
              "2          0.000104         22.0     7.333333  \n",
              "3          0.000255          8.0     2.666667  \n",
              "4          0.000307         24.0     8.000000  \n",
              "...             ...          ...          ...  \n",
              "235253     0.000002          3.0     1.500000  \n",
              "235254     0.000014          9.0     4.500000  \n",
              "235255     0.000001          1.0     0.500000  \n",
              "235256     0.000000          0.0     0.000000  \n",
              "235257     0.000000          0.0     0.000000  \n",
              "\n",
              "[235258 rows x 121 columns]"
            ],
            "text/html": [
              "\n",
              "  <div id=\"df-7df34d9f-de64-49ca-ab9b-c00d20edeba1\" class=\"colab-df-container\">\n",
              "    <div>\n",
              "<style scoped>\n",
              "    .dataframe tbody tr th:only-of-type {\n",
              "        vertical-align: middle;\n",
              "    }\n",
              "\n",
              "    .dataframe tbody tr th {\n",
              "        vertical-align: top;\n",
              "    }\n",
              "\n",
              "    .dataframe thead th {\n",
              "        text-align: right;\n",
              "    }\n",
              "</style>\n",
              "<table border=\"1\" class=\"dataframe\">\n",
              "  <thead>\n",
              "    <tr style=\"text-align: right;\">\n",
              "      <th></th>\n",
              "      <th>rank</th>\n",
              "      <th>query_id</th>\n",
              "      <th>feature_0</th>\n",
              "      <th>feature_1</th>\n",
              "      <th>feature_2</th>\n",
              "      <th>feature_3</th>\n",
              "      <th>feature_4</th>\n",
              "      <th>feature_5</th>\n",
              "      <th>feature_6</th>\n",
              "      <th>feature_7</th>\n",
              "      <th>...</th>\n",
              "      <th>feature_134</th>\n",
              "      <th>feature_135</th>\n",
              "      <th>feature_136</th>\n",
              "      <th>feature_137</th>\n",
              "      <th>feature_138</th>\n",
              "      <th>feature_139</th>\n",
              "      <th>feature_140</th>\n",
              "      <th>feature_141</th>\n",
              "      <th>feature_142</th>\n",
              "      <th>feature_143</th>\n",
              "    </tr>\n",
              "  </thead>\n",
              "  <tbody>\n",
              "    <tr>\n",
              "      <th>0</th>\n",
              "      <td>0</td>\n",
              "      <td>10</td>\n",
              "      <td>1.0</td>\n",
              "      <td>0.0</td>\n",
              "      <td>1.0</td>\n",
              "      <td>3.0</td>\n",
              "      <td>3.0</td>\n",
              "      <td>0.333333</td>\n",
              "      <td>0.0</td>\n",
              "      <td>0.333333</td>\n",
              "      <td>...</td>\n",
              "      <td>0.0</td>\n",
              "      <td>0.000000</td>\n",
              "      <td>0.454545</td>\n",
              "      <td>0.890238</td>\n",
              "      <td>8.655534</td>\n",
              "      <td>1.000000</td>\n",
              "      <td>0.077778</td>\n",
              "      <td>0.002222</td>\n",
              "      <td>1.0</td>\n",
              "      <td>0.333333</td>\n",
              "    </tr>\n",
              "    <tr>\n",
              "      <th>1</th>\n",
              "      <td>1</td>\n",
              "      <td>10</td>\n",
              "      <td>3.0</td>\n",
              "      <td>0.0</td>\n",
              "      <td>3.0</td>\n",
              "      <td>0.0</td>\n",
              "      <td>3.0</td>\n",
              "      <td>1.000000</td>\n",
              "      <td>0.0</td>\n",
              "      <td>1.000000</td>\n",
              "      <td>...</td>\n",
              "      <td>0.0</td>\n",
              "      <td>0.000000</td>\n",
              "      <td>0.000000</td>\n",
              "      <td>0.773976</td>\n",
              "      <td>23.130514</td>\n",
              "      <td>0.000000</td>\n",
              "      <td>0.027826</td>\n",
              "      <td>0.000430</td>\n",
              "      <td>44.0</td>\n",
              "      <td>14.666667</td>\n",
              "    </tr>\n",
              "    <tr>\n",
              "      <th>2</th>\n",
              "      <td>0</td>\n",
              "      <td>10</td>\n",
              "      <td>3.0</td>\n",
              "      <td>0.0</td>\n",
              "      <td>2.0</td>\n",
              "      <td>0.0</td>\n",
              "      <td>3.0</td>\n",
              "      <td>1.000000</td>\n",
              "      <td>0.0</td>\n",
              "      <td>0.666667</td>\n",
              "      <td>...</td>\n",
              "      <td>0.0</td>\n",
              "      <td>0.000000</td>\n",
              "      <td>0.000000</td>\n",
              "      <td>0.918308</td>\n",
              "      <td>13.351339</td>\n",
              "      <td>0.000000</td>\n",
              "      <td>0.014925</td>\n",
              "      <td>0.000104</td>\n",
              "      <td>22.0</td>\n",
              "      <td>7.333333</td>\n",
              "    </tr>\n",
              "    <tr>\n",
              "      <th>3</th>\n",
              "      <td>1</td>\n",
              "      <td>10</td>\n",
              "      <td>3.0</td>\n",
              "      <td>0.0</td>\n",
              "      <td>3.0</td>\n",
              "      <td>0.0</td>\n",
              "      <td>3.0</td>\n",
              "      <td>1.000000</td>\n",
              "      <td>0.0</td>\n",
              "      <td>1.000000</td>\n",
              "      <td>...</td>\n",
              "      <td>0.0</td>\n",
              "      <td>0.000000</td>\n",
              "      <td>0.000000</td>\n",
              "      <td>0.975355</td>\n",
              "      <td>18.240926</td>\n",
              "      <td>0.000000</td>\n",
              "      <td>0.053140</td>\n",
              "      <td>0.000255</td>\n",
              "      <td>8.0</td>\n",
              "      <td>2.666667</td>\n",
              "    </tr>\n",
              "    <tr>\n",
              "      <th>4</th>\n",
              "      <td>2</td>\n",
              "      <td>10</td>\n",
              "      <td>3.0</td>\n",
              "      <td>0.0</td>\n",
              "      <td>3.0</td>\n",
              "      <td>1.0</td>\n",
              "      <td>3.0</td>\n",
              "      <td>1.000000</td>\n",
              "      <td>0.0</td>\n",
              "      <td>1.000000</td>\n",
              "      <td>...</td>\n",
              "      <td>273.0</td>\n",
              "      <td>79.670665</td>\n",
              "      <td>0.200000</td>\n",
              "      <td>0.990119</td>\n",
              "      <td>31.786048</td>\n",
              "      <td>0.333333</td>\n",
              "      <td>0.046512</td>\n",
              "      <td>0.000307</td>\n",
              "      <td>24.0</td>\n",
              "      <td>8.000000</td>\n",
              "    </tr>\n",
              "    <tr>\n",
              "      <th>...</th>\n",
              "      <td>...</td>\n",
              "      <td>...</td>\n",
              "      <td>...</td>\n",
              "      <td>...</td>\n",
              "      <td>...</td>\n",
              "      <td>...</td>\n",
              "      <td>...</td>\n",
              "      <td>...</td>\n",
              "      <td>...</td>\n",
              "      <td>...</td>\n",
              "      <td>...</td>\n",
              "      <td>...</td>\n",
              "      <td>...</td>\n",
              "      <td>...</td>\n",
              "      <td>...</td>\n",
              "      <td>...</td>\n",
              "      <td>...</td>\n",
              "      <td>...</td>\n",
              "      <td>...</td>\n",
              "      <td>...</td>\n",
              "      <td>...</td>\n",
              "    </tr>\n",
              "    <tr>\n",
              "      <th>235253</th>\n",
              "      <td>2</td>\n",
              "      <td>29995</td>\n",
              "      <td>1.0</td>\n",
              "      <td>0.0</td>\n",
              "      <td>0.0</td>\n",
              "      <td>0.0</td>\n",
              "      <td>1.0</td>\n",
              "      <td>0.500000</td>\n",
              "      <td>0.0</td>\n",
              "      <td>0.000000</td>\n",
              "      <td>...</td>\n",
              "      <td>0.0</td>\n",
              "      <td>0.000000</td>\n",
              "      <td>0.000000</td>\n",
              "      <td>0.471409</td>\n",
              "      <td>0.000000</td>\n",
              "      <td>0.000000</td>\n",
              "      <td>0.001350</td>\n",
              "      <td>0.000002</td>\n",
              "      <td>3.0</td>\n",
              "      <td>1.500000</td>\n",
              "    </tr>\n",
              "    <tr>\n",
              "      <th>235254</th>\n",
              "      <td>2</td>\n",
              "      <td>29995</td>\n",
              "      <td>1.0</td>\n",
              "      <td>0.0</td>\n",
              "      <td>1.0</td>\n",
              "      <td>0.0</td>\n",
              "      <td>1.0</td>\n",
              "      <td>0.500000</td>\n",
              "      <td>0.0</td>\n",
              "      <td>0.500000</td>\n",
              "      <td>...</td>\n",
              "      <td>0.0</td>\n",
              "      <td>0.000000</td>\n",
              "      <td>0.000000</td>\n",
              "      <td>0.471409</td>\n",
              "      <td>39.908056</td>\n",
              "      <td>0.000000</td>\n",
              "      <td>0.004850</td>\n",
              "      <td>0.000014</td>\n",
              "      <td>9.0</td>\n",
              "      <td>4.500000</td>\n",
              "    </tr>\n",
              "    <tr>\n",
              "      <th>235255</th>\n",
              "      <td>1</td>\n",
              "      <td>29995</td>\n",
              "      <td>1.0</td>\n",
              "      <td>0.0</td>\n",
              "      <td>0.0</td>\n",
              "      <td>0.0</td>\n",
              "      <td>1.0</td>\n",
              "      <td>0.500000</td>\n",
              "      <td>0.0</td>\n",
              "      <td>0.000000</td>\n",
              "      <td>...</td>\n",
              "      <td>0.0</td>\n",
              "      <td>0.000000</td>\n",
              "      <td>0.000000</td>\n",
              "      <td>0.471409</td>\n",
              "      <td>0.000000</td>\n",
              "      <td>0.000000</td>\n",
              "      <td>0.001064</td>\n",
              "      <td>0.000001</td>\n",
              "      <td>1.0</td>\n",
              "      <td>0.500000</td>\n",
              "    </tr>\n",
              "    <tr>\n",
              "      <th>235256</th>\n",
              "      <td>2</td>\n",
              "      <td>29995</td>\n",
              "      <td>0.0</td>\n",
              "      <td>0.0</td>\n",
              "      <td>0.0</td>\n",
              "      <td>0.0</td>\n",
              "      <td>0.0</td>\n",
              "      <td>0.000000</td>\n",
              "      <td>0.0</td>\n",
              "      <td>0.000000</td>\n",
              "      <td>...</td>\n",
              "      <td>0.0</td>\n",
              "      <td>0.000000</td>\n",
              "      <td>0.000000</td>\n",
              "      <td>0.000000</td>\n",
              "      <td>0.000000</td>\n",
              "      <td>0.000000</td>\n",
              "      <td>0.000000</td>\n",
              "      <td>0.000000</td>\n",
              "      <td>0.0</td>\n",
              "      <td>0.000000</td>\n",
              "    </tr>\n",
              "    <tr>\n",
              "      <th>235257</th>\n",
              "      <td>1</td>\n",
              "      <td>29995</td>\n",
              "      <td>0.0</td>\n",
              "      <td>0.0</td>\n",
              "      <td>0.0</td>\n",
              "      <td>0.0</td>\n",
              "      <td>0.0</td>\n",
              "      <td>0.000000</td>\n",
              "      <td>0.0</td>\n",
              "      <td>0.000000</td>\n",
              "      <td>...</td>\n",
              "      <td>0.0</td>\n",
              "      <td>0.000000</td>\n",
              "      <td>0.000000</td>\n",
              "      <td>0.000000</td>\n",
              "      <td>0.000000</td>\n",
              "      <td>0.000000</td>\n",
              "      <td>0.000000</td>\n",
              "      <td>0.000000</td>\n",
              "      <td>0.0</td>\n",
              "      <td>0.000000</td>\n",
              "    </tr>\n",
              "  </tbody>\n",
              "</table>\n",
              "<p>235258 rows × 121 columns</p>\n",
              "</div>\n",
              "    <div class=\"colab-df-buttons\">\n",
              "\n",
              "  <div class=\"colab-df-container\">\n",
              "    <button class=\"colab-df-convert\" onclick=\"convertToInteractive('df-7df34d9f-de64-49ca-ab9b-c00d20edeba1')\"\n",
              "            title=\"Convert this dataframe to an interactive table.\"\n",
              "            style=\"display:none;\">\n",
              "\n",
              "  <svg xmlns=\"http://www.w3.org/2000/svg\" height=\"24px\" viewBox=\"0 -960 960 960\">\n",
              "    <path d=\"M120-120v-720h720v720H120Zm60-500h600v-160H180v160Zm220 220h160v-160H400v160Zm0 220h160v-160H400v160ZM180-400h160v-160H180v160Zm440 0h160v-160H620v160ZM180-180h160v-160H180v160Zm440 0h160v-160H620v160Z\"/>\n",
              "  </svg>\n",
              "    </button>\n",
              "\n",
              "  <style>\n",
              "    .colab-df-container {\n",
              "      display:flex;\n",
              "      gap: 12px;\n",
              "    }\n",
              "\n",
              "    .colab-df-convert {\n",
              "      background-color: #E8F0FE;\n",
              "      border: none;\n",
              "      border-radius: 50%;\n",
              "      cursor: pointer;\n",
              "      display: none;\n",
              "      fill: #1967D2;\n",
              "      height: 32px;\n",
              "      padding: 0 0 0 0;\n",
              "      width: 32px;\n",
              "    }\n",
              "\n",
              "    .colab-df-convert:hover {\n",
              "      background-color: #E2EBFA;\n",
              "      box-shadow: 0px 1px 2px rgba(60, 64, 67, 0.3), 0px 1px 3px 1px rgba(60, 64, 67, 0.15);\n",
              "      fill: #174EA6;\n",
              "    }\n",
              "\n",
              "    .colab-df-buttons div {\n",
              "      margin-bottom: 4px;\n",
              "    }\n",
              "\n",
              "    [theme=dark] .colab-df-convert {\n",
              "      background-color: #3B4455;\n",
              "      fill: #D2E3FC;\n",
              "    }\n",
              "\n",
              "    [theme=dark] .colab-df-convert:hover {\n",
              "      background-color: #434B5C;\n",
              "      box-shadow: 0px 1px 3px 1px rgba(0, 0, 0, 0.15);\n",
              "      filter: drop-shadow(0px 1px 2px rgba(0, 0, 0, 0.3));\n",
              "      fill: #FFFFFF;\n",
              "    }\n",
              "  </style>\n",
              "\n",
              "    <script>\n",
              "      const buttonEl =\n",
              "        document.querySelector('#df-7df34d9f-de64-49ca-ab9b-c00d20edeba1 button.colab-df-convert');\n",
              "      buttonEl.style.display =\n",
              "        google.colab.kernel.accessAllowed ? 'block' : 'none';\n",
              "\n",
              "      async function convertToInteractive(key) {\n",
              "        const element = document.querySelector('#df-7df34d9f-de64-49ca-ab9b-c00d20edeba1');\n",
              "        const dataTable =\n",
              "          await google.colab.kernel.invokeFunction('convertToInteractive',\n",
              "                                                    [key], {});\n",
              "        if (!dataTable) return;\n",
              "\n",
              "        const docLinkHtml = 'Like what you see? Visit the ' +\n",
              "          '<a target=\"_blank\" href=https://colab.research.google.com/notebooks/data_table.ipynb>data table notebook</a>'\n",
              "          + ' to learn more about interactive tables.';\n",
              "        element.innerHTML = '';\n",
              "        dataTable['output_type'] = 'display_data';\n",
              "        await google.colab.output.renderOutput(dataTable, element);\n",
              "        const docLink = document.createElement('div');\n",
              "        docLink.innerHTML = docLinkHtml;\n",
              "        element.appendChild(docLink);\n",
              "      }\n",
              "    </script>\n",
              "  </div>\n",
              "\n",
              "\n",
              "<div id=\"df-dfc56161-df5e-4304-9f65-a403ff4782cb\">\n",
              "  <button class=\"colab-df-quickchart\" onclick=\"quickchart('df-dfc56161-df5e-4304-9f65-a403ff4782cb')\"\n",
              "            title=\"Suggest charts\"\n",
              "            style=\"display:none;\">\n",
              "\n",
              "<svg xmlns=\"http://www.w3.org/2000/svg\" height=\"24px\"viewBox=\"0 0 24 24\"\n",
              "     width=\"24px\">\n",
              "    <g>\n",
              "        <path d=\"M19 3H5c-1.1 0-2 .9-2 2v14c0 1.1.9 2 2 2h14c1.1 0 2-.9 2-2V5c0-1.1-.9-2-2-2zM9 17H7v-7h2v7zm4 0h-2V7h2v10zm4 0h-2v-4h2v4z\"/>\n",
              "    </g>\n",
              "</svg>\n",
              "  </button>\n",
              "\n",
              "<style>\n",
              "  .colab-df-quickchart {\n",
              "      --bg-color: #E8F0FE;\n",
              "      --fill-color: #1967D2;\n",
              "      --hover-bg-color: #E2EBFA;\n",
              "      --hover-fill-color: #174EA6;\n",
              "      --disabled-fill-color: #AAA;\n",
              "      --disabled-bg-color: #DDD;\n",
              "  }\n",
              "\n",
              "  [theme=dark] .colab-df-quickchart {\n",
              "      --bg-color: #3B4455;\n",
              "      --fill-color: #D2E3FC;\n",
              "      --hover-bg-color: #434B5C;\n",
              "      --hover-fill-color: #FFFFFF;\n",
              "      --disabled-bg-color: #3B4455;\n",
              "      --disabled-fill-color: #666;\n",
              "  }\n",
              "\n",
              "  .colab-df-quickchart {\n",
              "    background-color: var(--bg-color);\n",
              "    border: none;\n",
              "    border-radius: 50%;\n",
              "    cursor: pointer;\n",
              "    display: none;\n",
              "    fill: var(--fill-color);\n",
              "    height: 32px;\n",
              "    padding: 0;\n",
              "    width: 32px;\n",
              "  }\n",
              "\n",
              "  .colab-df-quickchart:hover {\n",
              "    background-color: var(--hover-bg-color);\n",
              "    box-shadow: 0 1px 2px rgba(60, 64, 67, 0.3), 0 1px 3px 1px rgba(60, 64, 67, 0.15);\n",
              "    fill: var(--button-hover-fill-color);\n",
              "  }\n",
              "\n",
              "  .colab-df-quickchart-complete:disabled,\n",
              "  .colab-df-quickchart-complete:disabled:hover {\n",
              "    background-color: var(--disabled-bg-color);\n",
              "    fill: var(--disabled-fill-color);\n",
              "    box-shadow: none;\n",
              "  }\n",
              "\n",
              "  .colab-df-spinner {\n",
              "    border: 2px solid var(--fill-color);\n",
              "    border-color: transparent;\n",
              "    border-bottom-color: var(--fill-color);\n",
              "    animation:\n",
              "      spin 1s steps(1) infinite;\n",
              "  }\n",
              "\n",
              "  @keyframes spin {\n",
              "    0% {\n",
              "      border-color: transparent;\n",
              "      border-bottom-color: var(--fill-color);\n",
              "      border-left-color: var(--fill-color);\n",
              "    }\n",
              "    20% {\n",
              "      border-color: transparent;\n",
              "      border-left-color: var(--fill-color);\n",
              "      border-top-color: var(--fill-color);\n",
              "    }\n",
              "    30% {\n",
              "      border-color: transparent;\n",
              "      border-left-color: var(--fill-color);\n",
              "      border-top-color: var(--fill-color);\n",
              "      border-right-color: var(--fill-color);\n",
              "    }\n",
              "    40% {\n",
              "      border-color: transparent;\n",
              "      border-right-color: var(--fill-color);\n",
              "      border-top-color: var(--fill-color);\n",
              "    }\n",
              "    60% {\n",
              "      border-color: transparent;\n",
              "      border-right-color: var(--fill-color);\n",
              "    }\n",
              "    80% {\n",
              "      border-color: transparent;\n",
              "      border-right-color: var(--fill-color);\n",
              "      border-bottom-color: var(--fill-color);\n",
              "    }\n",
              "    90% {\n",
              "      border-color: transparent;\n",
              "      border-bottom-color: var(--fill-color);\n",
              "    }\n",
              "  }\n",
              "</style>\n",
              "\n",
              "  <script>\n",
              "    async function quickchart(key) {\n",
              "      const quickchartButtonEl =\n",
              "        document.querySelector('#' + key + ' button');\n",
              "      quickchartButtonEl.disabled = true;  // To prevent multiple clicks.\n",
              "      quickchartButtonEl.classList.add('colab-df-spinner');\n",
              "      try {\n",
              "        const charts = await google.colab.kernel.invokeFunction(\n",
              "            'suggestCharts', [key], {});\n",
              "      } catch (error) {\n",
              "        console.error('Error during call to suggestCharts:', error);\n",
              "      }\n",
              "      quickchartButtonEl.classList.remove('colab-df-spinner');\n",
              "      quickchartButtonEl.classList.add('colab-df-quickchart-complete');\n",
              "    }\n",
              "    (() => {\n",
              "      let quickchartButtonEl =\n",
              "        document.querySelector('#df-dfc56161-df5e-4304-9f65-a403ff4782cb button');\n",
              "      quickchartButtonEl.style.display =\n",
              "        google.colab.kernel.accessAllowed ? 'block' : 'none';\n",
              "    })();\n",
              "  </script>\n",
              "</div>\n",
              "    </div>\n",
              "  </div>\n"
            ],
            "application/vnd.google.colaboratory.intrinsic+json": {
              "type": "dataframe",
              "variable_name": "df"
            }
          },
          "metadata": {},
          "execution_count": 14
        }
      ]
    },
    {
      "cell_type": "markdown",
      "source": [
        "# Подготовка данных для обучения"
      ],
      "metadata": {
        "id": "bPuy8mthBwri"
      }
    },
    {
      "cell_type": "markdown",
      "source": [
        "Разделение на тренировочную и тестовую выборку делаем на `query_id`, чтобы документы из одного запроса не попали в разные выборки."
      ],
      "metadata": {
        "id": "BoUOV60_Bzo6"
      }
    },
    {
      "cell_type": "code",
      "source": [
        "query_train, query_test = train_test_split(df['query_id'].unique(), test_size=.2, random_state=4)"
      ],
      "metadata": {
        "id": "eNuAZc_xlotM"
      },
      "execution_count": null,
      "outputs": []
    },
    {
      "cell_type": "code",
      "source": [
        "print(f\"No of unique queries in train : {query_train.shape}\")\n",
        "print(f\"No of unique queries in train : {query_test.shape}\")"
      ],
      "metadata": {
        "colab": {
          "base_uri": "https://localhost:8080/"
        },
        "id": "ztNZ6JDE1Dq5",
        "outputId": "4a03d7f9-1d38-4fdb-be31-497ae739ed1d"
      },
      "execution_count": null,
      "outputs": [
        {
          "output_type": "stream",
          "name": "stdout",
          "text": [
            "No of unique queries in train : (1600,)\n",
            "No of unique queries in train : (400,)\n"
          ]
        }
      ]
    },
    {
      "cell_type": "code",
      "source": [
        "df_train = df[df['query_id'].isin(query_train)]\n",
        "df_test = df[df['query_id'].isin(query_test)]\n",
        "\n",
        "print(f\"No of unique queries in train : {df_train.shape}\")\n",
        "print(f\"No of unique queries in train : {df_test.shape}\")"
      ],
      "metadata": {
        "id": "kgZdo7rG1oKM",
        "colab": {
          "base_uri": "https://localhost:8080/"
        },
        "outputId": "de668f58-c017-49e2-cb5b-86a7ce9aed1a"
      },
      "execution_count": null,
      "outputs": [
        {
          "output_type": "stream",
          "name": "stdout",
          "text": [
            "No of unique queries in train : (187245, 121)\n",
            "No of unique queries in train : (48013, 121)\n"
          ]
        }
      ]
    },
    {
      "cell_type": "code",
      "source": [
        "qids_train = df_train.groupby(\"query_id\")[\"query_id\"].count().to_numpy()\n",
        "X_train = df_train.drop([\"query_id\", \"rank\"], axis = 1)\n",
        "y_train = df_train['rank'].astype(int)\n",
        "\n",
        "qids_test = df_test.groupby(\"query_id\")[\"query_id\"].count().to_numpy()\n",
        "X_test = df_test.drop([\"query_id\", \"rank\"], axis = 1)\n",
        "y_test = df_test['rank'].astype(int)"
      ],
      "metadata": {
        "id": "it5CbpLXqWaK"
      },
      "execution_count": null,
      "outputs": []
    },
    {
      "cell_type": "markdown",
      "source": [
        "# Первичное обучение"
      ],
      "metadata": {
        "id": "ZFBNS6JLCVn2"
      }
    },
    {
      "cell_type": "markdown",
      "source": [
        "В качестве модели я выбрал **LGBMRanker**. Так же проверил модели **CatBoostRanker** и **XGBRanker**, но их результат оказался хуже."
      ],
      "metadata": {
        "id": "1rpCYnLtCY4Z"
      }
    },
    {
      "cell_type": "code",
      "source": [
        "ranker = lgb.LGBMRanker(\n",
        "    objective='lambdarank',\n",
        "    metric=\"ndcg\",\n",
        "    n_estimators=1000,\n",
        "    random_state=4\n",
        ")\n",
        "\n",
        "gbm = ranker.fit(\n",
        "      X=X_train,\n",
        "      y=y_train,\n",
        "      group=qids_train,\n",
        "      eval_set=[(X_train, y_train),(X_test, y_test)],\n",
        "      eval_group=[qids_train, qids_test],\n",
        "      callbacks=[lgb.log_evaluation(10), lgb.early_stopping(50)],\n",
        "      eval_at=[5, 10])"
      ],
      "metadata": {
        "colab": {
          "base_uri": "https://localhost:8080/"
        },
        "id": "aKuLICkSYIat",
        "outputId": "a5ad163f-70dc-4d85-8c92-7619f8362389"
      },
      "execution_count": null,
      "outputs": [
        {
          "output_type": "stream",
          "name": "stdout",
          "text": [
            "[LightGBM] [Info] Auto-choosing row-wise multi-threading, the overhead of testing was 0.141385 seconds.\n",
            "You can set `force_row_wise=true` to remove the overhead.\n",
            "And if memory is not enough, you can set `force_col_wise=true`.\n",
            "[LightGBM] [Info] Total Bins 21069\n",
            "[LightGBM] [Info] Number of data points in the train set: 187245, number of used features: 119\n",
            "Training until validation scores don't improve for 50 rounds\n",
            "[10]\ttraining's ndcg@5: 0.465134\ttraining's ndcg@10: 0.485847\tvalid_1's ndcg@5: 0.421951\tvalid_1's ndcg@10: 0.450126\n",
            "[20]\ttraining's ndcg@5: 0.505619\ttraining's ndcg@10: 0.518415\tvalid_1's ndcg@5: 0.445387\tvalid_1's ndcg@10: 0.471109\n",
            "[30]\ttraining's ndcg@5: 0.531211\ttraining's ndcg@10: 0.541213\tvalid_1's ndcg@5: 0.470214\tvalid_1's ndcg@10: 0.488845\n",
            "[40]\ttraining's ndcg@5: 0.549283\ttraining's ndcg@10: 0.555225\tvalid_1's ndcg@5: 0.481235\tvalid_1's ndcg@10: 0.495513\n",
            "[50]\ttraining's ndcg@5: 0.56438\ttraining's ndcg@10: 0.568376\tvalid_1's ndcg@5: 0.484962\tvalid_1's ndcg@10: 0.498941\n",
            "[60]\ttraining's ndcg@5: 0.578453\ttraining's ndcg@10: 0.580415\tvalid_1's ndcg@5: 0.483709\tvalid_1's ndcg@10: 0.5005\n",
            "[70]\ttraining's ndcg@5: 0.590662\ttraining's ndcg@10: 0.590994\tvalid_1's ndcg@5: 0.482635\tvalid_1's ndcg@10: 0.502715\n",
            "[80]\ttraining's ndcg@5: 0.602233\ttraining's ndcg@10: 0.600197\tvalid_1's ndcg@5: 0.486126\tvalid_1's ndcg@10: 0.502973\n",
            "[90]\ttraining's ndcg@5: 0.612066\ttraining's ndcg@10: 0.609851\tvalid_1's ndcg@5: 0.487537\tvalid_1's ndcg@10: 0.505527\n",
            "[100]\ttraining's ndcg@5: 0.620473\ttraining's ndcg@10: 0.616812\tvalid_1's ndcg@5: 0.48482\tvalid_1's ndcg@10: 0.503322\n",
            "[110]\ttraining's ndcg@5: 0.630423\ttraining's ndcg@10: 0.624093\tvalid_1's ndcg@5: 0.486483\tvalid_1's ndcg@10: 0.505439\n",
            "[120]\ttraining's ndcg@5: 0.638443\ttraining's ndcg@10: 0.630426\tvalid_1's ndcg@5: 0.488137\tvalid_1's ndcg@10: 0.504878\n",
            "[130]\ttraining's ndcg@5: 0.645748\ttraining's ndcg@10: 0.637048\tvalid_1's ndcg@5: 0.487781\tvalid_1's ndcg@10: 0.502137\n",
            "[140]\ttraining's ndcg@5: 0.652743\ttraining's ndcg@10: 0.643122\tvalid_1's ndcg@5: 0.489246\tvalid_1's ndcg@10: 0.503999\n",
            "Early stopping, best iteration is:\n",
            "[93]\ttraining's ndcg@5: 0.615159\ttraining's ndcg@10: 0.612119\tvalid_1's ndcg@5: 0.487947\tvalid_1's ndcg@10: 0.506134\n"
          ]
        }
      ]
    },
    {
      "cell_type": "markdown",
      "source": [
        "Рассчитаем метрику NDCG5 и NDCG10"
      ],
      "metadata": {
        "id": "cstQ2C5kDTiH"
      }
    },
    {
      "cell_type": "code",
      "source": [
        "total_ndcg(5, gbm), total_ndcg(10, gbm)"
      ],
      "metadata": {
        "colab": {
          "base_uri": "https://localhost:8080/"
        },
        "id": "nii09Og0W4C5",
        "outputId": "5e80c916-ad5d-4fc0-e5f8-355b8beef546"
      },
      "execution_count": null,
      "outputs": [
        {
          "output_type": "execute_result",
          "data": {
            "text/plain": [
              "(0.47204551236958364, 0.49083045191762475)"
            ]
          },
          "metadata": {},
          "execution_count": 20
        }
      ]
    },
    {
      "cell_type": "markdown",
      "source": [
        "# Тюнинг модели"
      ],
      "metadata": {
        "id": "5925aG7uDun4"
      }
    },
    {
      "cell_type": "markdown",
      "source": [
        "## Отброс малоинформативных фич"
      ],
      "metadata": {
        "id": "905Ui5tRDwfZ"
      }
    },
    {
      "cell_type": "markdown",
      "source": [
        "Первым делом посмотрим, какие фичи оказали наименьшение влияние. Удалим их и посмотрим на результат."
      ],
      "metadata": {
        "id": "MiwWECxJD2eF"
      }
    },
    {
      "cell_type": "code",
      "source": [
        "lgb.plot_importance(gbm, figsize = (12,8), max_num_features=15)"
      ],
      "metadata": {
        "colab": {
          "base_uri": "https://localhost:8080/",
          "height": 744
        },
        "id": "UzOZqWkcY2Q0",
        "outputId": "6ee85840-6fdf-4938-95d0-c8157cd0766f"
      },
      "execution_count": null,
      "outputs": [
        {
          "output_type": "execute_result",
          "data": {
            "text/plain": [
              "<Axes: title={'center': 'Feature importance'}, xlabel='Feature importance', ylabel='Features'>"
            ]
          },
          "metadata": {},
          "execution_count": 21
        },
        {
          "output_type": "display_data",
          "data": {
            "text/plain": [
              "<Figure size 1200x800 with 1 Axes>"
            ],
            "image/png": "[encoded data removed]"
          },
          "metadata": {}
        }
      ]
    },
    {
      "cell_type": "code",
      "source": [
        "ranker.feature_importances_"
      ],
      "metadata": {
        "colab": {
          "base_uri": "https://localhost:8080/"
        },
        "id": "JfekA4cLaGFQ",
        "outputId": "57bb2eae-1a87-4be8-e00c-b41f0d16c174"
      },
      "execution_count": null,
      "outputs": [
        {
          "output_type": "execute_result",
          "data": {
            "text/plain": [
              "array([  5,   3,  18,   2,   1,  11,   4,   3,  11,  16,  34,  83, 119,\n",
              "        29,  33,  65,   5,   5,   2,   0,   0,   1,  31,   0,   0,   0,\n",
              "        13,  34,   1,   6,   0,   3,   5,   1,  26,  17,   5,  22,  31,\n",
              "        50,  14,   8,   3,   4,  39,  12,   2,  16,   9,  27,  15,   0,\n",
              "        11,   3,   4,  12,   9,  14,  11,  17,  25,   3,   5,   6,  24,\n",
              "         1,  13,  23,  23,   6,  11,  15,  17,   2,  23,  18,  25,   0,\n",
              "         0,   0,   0,   0,   1,  10,  11,  20,  29,  18,  91,  64,  68,\n",
              "        51,  17,  23,  21,  17,  41,  57,  32,  33,  41,  83,  66,  88,\n",
              "       107,  92,  63, 110,  61,  59,  55,  18,  29,  36,   1,  38,  29,\n",
              "        28,  17], dtype=int32)"
            ]
          },
          "metadata": {},
          "execution_count": 22
        }
      ]
    },
    {
      "cell_type": "code",
      "source": [
        "coumns_with_lower_importances = []\n",
        "for i in range(len(ranker.feature_importances_)):\n",
        "  if ranker.feature_importances_[i] == 0:\n",
        "    coumns_with_lower_importances.append(df.columns[i])"
      ],
      "metadata": {
        "id": "Z1nB6GuyaMlW"
      },
      "execution_count": null,
      "outputs": []
    },
    {
      "cell_type": "code",
      "source": [
        "df = df.drop(columns=coumns_with_lower_importances, axis=1)\n",
        "\n",
        "df_train = df[df['query_id'].isin(query_train)]\n",
        "df_test = df[df['query_id'].isin(query_test)]\n",
        "\n",
        "print(f\"No of unique queries in train : {df_train.shape}\")\n",
        "print(f\"No of unique queries in train : {df_test.shape}\")\n",
        "\n",
        "qids_train = df_train.groupby(\"query_id\")[\"query_id\"].count().to_numpy()\n",
        "X_train = df_train.drop([\"query_id\", \"rank\"], axis = 1)\n",
        "y_train = df_train['rank'].astype(int)\n",
        "\n",
        "qids_test = df_test.groupby(\"query_id\")[\"query_id\"].count().to_numpy()\n",
        "X_test = df_test.drop([\"query_id\", \"rank\"], axis = 1)\n",
        "y_test = df_test['rank'].astype(int)"
      ],
      "metadata": {
        "colab": {
          "base_uri": "https://localhost:8080/"
        },
        "id": "pO3ZAsANauwb",
        "outputId": "a9cbdc51-3746-4477-e32c-ca495b105eeb"
      },
      "execution_count": null,
      "outputs": [
        {
          "output_type": "stream",
          "name": "stdout",
          "text": [
            "No of unique queries in train : (187245, 109)\n",
            "No of unique queries in train : (48013, 109)\n"
          ]
        }
      ]
    },
    {
      "cell_type": "code",
      "source": [
        "ranker = lgb.LGBMRanker(\n",
        "    objective='lambdarank',\n",
        "    metric=\"ndcg\",\n",
        "    n_estimators=1000,\n",
        "    random_state=4,\n",
        "    n_jobs=2\n",
        ")\n",
        "\n",
        "gbm = ranker.fit(\n",
        "      X=X_train,\n",
        "      y=y_train,\n",
        "      group=qids_train,\n",
        "      eval_set=[(X_train, y_train),(X_test, y_test)],\n",
        "      eval_group=[qids_train, qids_test],\n",
        "      callbacks=[lgb.log_evaluation(10), lgb.early_stopping(50)],\n",
        "      eval_at=[5, 10])"
      ],
      "metadata": {
        "colab": {
          "base_uri": "https://localhost:8080/"
        },
        "id": "3FCo1UMhbDKO",
        "outputId": "a48e47f5-939f-44b3-ac3d-e83733cc5ae8"
      },
      "execution_count": null,
      "outputs": [
        {
          "output_type": "stream",
          "name": "stdout",
          "text": [
            "[LightGBM] [Info] Auto-choosing row-wise multi-threading, the overhead of testing was 0.110633 seconds.\n",
            "You can set `force_row_wise=true` to remove the overhead.\n",
            "And if memory is not enough, you can set `force_col_wise=true`.\n",
            "[LightGBM] [Info] Total Bins 19970\n",
            "[LightGBM] [Info] Number of data points in the train set: 187245, number of used features: 107\n",
            "Training until validation scores don't improve for 50 rounds\n",
            "[10]\ttraining's ndcg@5: 0.46897\ttraining's ndcg@10: 0.485931\tvalid_1's ndcg@5: 0.423688\tvalid_1's ndcg@10: 0.449797\n",
            "[20]\ttraining's ndcg@5: 0.504523\ttraining's ndcg@10: 0.518503\tvalid_1's ndcg@5: 0.445067\tvalid_1's ndcg@10: 0.468833\n",
            "[30]\ttraining's ndcg@5: 0.528846\ttraining's ndcg@10: 0.53985\tvalid_1's ndcg@5: 0.468401\tvalid_1's ndcg@10: 0.486127\n",
            "[40]\ttraining's ndcg@5: 0.549429\ttraining's ndcg@10: 0.556065\tvalid_1's ndcg@5: 0.475461\tvalid_1's ndcg@10: 0.493321\n",
            "[50]\ttraining's ndcg@5: 0.565646\ttraining's ndcg@10: 0.568751\tvalid_1's ndcg@5: 0.476722\tvalid_1's ndcg@10: 0.496818\n",
            "[60]\ttraining's ndcg@5: 0.579458\ttraining's ndcg@10: 0.580396\tvalid_1's ndcg@5: 0.482066\tvalid_1's ndcg@10: 0.497959\n",
            "[70]\ttraining's ndcg@5: 0.592236\ttraining's ndcg@10: 0.591295\tvalid_1's ndcg@5: 0.482838\tvalid_1's ndcg@10: 0.500058\n",
            "[80]\ttraining's ndcg@5: 0.603349\ttraining's ndcg@10: 0.599611\tvalid_1's ndcg@5: 0.48446\tvalid_1's ndcg@10: 0.50089\n",
            "[90]\ttraining's ndcg@5: 0.613546\ttraining's ndcg@10: 0.609873\tvalid_1's ndcg@5: 0.485346\tvalid_1's ndcg@10: 0.503447\n",
            "[100]\ttraining's ndcg@5: 0.622582\ttraining's ndcg@10: 0.618194\tvalid_1's ndcg@5: 0.487761\tvalid_1's ndcg@10: 0.503566\n",
            "[110]\ttraining's ndcg@5: 0.62998\ttraining's ndcg@10: 0.625485\tvalid_1's ndcg@5: 0.486743\tvalid_1's ndcg@10: 0.504041\n",
            "[120]\ttraining's ndcg@5: 0.639309\ttraining's ndcg@10: 0.631758\tvalid_1's ndcg@5: 0.485494\tvalid_1's ndcg@10: 0.502893\n",
            "[130]\ttraining's ndcg@5: 0.646732\ttraining's ndcg@10: 0.638318\tvalid_1's ndcg@5: 0.484797\tvalid_1's ndcg@10: 0.502583\n",
            "[140]\ttraining's ndcg@5: 0.653201\ttraining's ndcg@10: 0.643057\tvalid_1's ndcg@5: 0.487148\tvalid_1's ndcg@10: 0.504152\n",
            "[150]\ttraining's ndcg@5: 0.66002\ttraining's ndcg@10: 0.648469\tvalid_1's ndcg@5: 0.488287\tvalid_1's ndcg@10: 0.50357\n",
            "Early stopping, best iteration is:\n",
            "[107]\ttraining's ndcg@5: 0.62757\ttraining's ndcg@10: 0.623459\tvalid_1's ndcg@5: 0.489877\tvalid_1's ndcg@10: 0.505581\n"
          ]
        }
      ]
    },
    {
      "cell_type": "code",
      "source": [
        "total_ndcg(5, gbm), total_ndcg(10, gbm)"
      ],
      "metadata": {
        "colab": {
          "base_uri": "https://localhost:8080/"
        },
        "id": "7Bb-dilPFnpE",
        "outputId": "931fd18b-857c-4e21-f5c9-222bf7307723"
      },
      "execution_count": null,
      "outputs": [
        {
          "output_type": "execute_result",
          "data": {
            "text/plain": [
              "(0.47382272937973896, 0.4898841972053191)"
            ]
          },
          "metadata": {},
          "execution_count": 26
        }
      ]
    },
    {
      "cell_type": "markdown",
      "source": [
        "У метрики NDCG5 результат улучшился на `0,001777217`, а у NDCG10 ухудшился на `0,000946255`. Двигаемся дальше)"
      ],
      "metadata": {
        "id": "mcjE2oD_EnLP"
      }
    },
    {
      "cell_type": "markdown",
      "source": [
        "## Подбор параметров"
      ],
      "metadata": {
        "id": "iXRph2WUbufr"
      }
    },
    {
      "cell_type": "markdown",
      "source": [
        "К сожалению api sklearn не поддерживает модель для ранжирования LGBMRanker, поэтому поиск параметров при дется делать вручную."
      ],
      "metadata": {
        "id": "d5WRVOLZFGS7"
      }
    },
    {
      "cell_type": "code",
      "source": [
        "gbm.get_params()"
      ],
      "metadata": {
        "colab": {
          "base_uri": "https://localhost:8080/"
        },
        "id": "RBcDHdp_bwaD",
        "outputId": "f6816e36-67a5-40a3-86bc-24e310aa1d7f"
      },
      "execution_count": null,
      "outputs": [
        {
          "output_type": "execute_result",
          "data": {
            "text/plain": [
              "{'boosting_type': 'gbdt',\n",
              " 'class_weight': None,\n",
              " 'colsample_bytree': 1.0,\n",
              " 'importance_type': 'split',\n",
              " 'learning_rate': 0.1,\n",
              " 'max_depth': -1,\n",
              " 'min_child_samples': 20,\n",
              " 'min_child_weight': 0.001,\n",
              " 'min_split_gain': 0.0,\n",
              " 'n_estimators': 1000,\n",
              " 'n_jobs': 2,\n",
              " 'num_leaves': 31,\n",
              " 'objective': 'lambdarank',\n",
              " 'random_state': 4,\n",
              " 'reg_alpha': 0.0,\n",
              " 'reg_lambda': 0.0,\n",
              " 'subsample': 1.0,\n",
              " 'subsample_for_bin': 200000,\n",
              " 'subsample_freq': 0,\n",
              " 'metric': 'ndcg'}"
            ]
          },
          "metadata": {},
          "execution_count": 27
        }
      ]
    },
    {
      "cell_type": "code",
      "source": [
        "def tune_lgbm_ranker(X_train, y_train, X_val, y_val, qids_train, qids_test, param_grid):\n",
        "    best_score_ngcg5 = 0\n",
        "    best_score_ngcg10 = 0\n",
        "    best_params = {\n",
        "        'ngcg5': {},\n",
        "        'ngcg10': {},\n",
        "    }\n",
        "\n",
        "    for min_child_samples in param_grid['min_child_samples']:\n",
        "        for num_leaves in param_grid['num_leaves']:\n",
        "            for learning_rate in param_grid['learning_rate']:\n",
        "                params = {\n",
        "                    'min_child_samples': min_child_samples,\n",
        "                    'num_leaves': num_leaves,\n",
        "                    'learning_rate': learning_rate\n",
        "                }\n",
        "\n",
        "                model = lgb.LGBMRanker(**params, metric=\"ndcg\", objective='lambdarank', n_estimators=1000, random_state=4, n_jobs=2, verbose=0)\n",
        "                model.fit(\n",
        "                    X=X_train,\n",
        "                    y=y_train,\n",
        "                    group=qids_train,\n",
        "                    eval_set=[(X_train, y_train),(X_val, y_val)],\n",
        "                    eval_group=[qids_train, qids_test],\n",
        "                    callbacks=[lgb.early_stopping(50)],\n",
        "                    eval_at=[5, 10]\n",
        "                )\n",
        "                y_pred = model.predict(X_val)\n",
        "\n",
        "                ngcg5_score = total_ndcg(5, model)\n",
        "                ngcg10_score = total_ndcg(10, model)\n",
        "\n",
        "                if best_score_ngcg5 < ngcg5_score:\n",
        "                    best_score_ngcg5 = ngcg5_score\n",
        "                    best_params['ngcg5'] = params\n",
        "\n",
        "                if best_score_ngcg10 < ngcg10_score:\n",
        "                    best_score_ngcg10 = ngcg10_score\n",
        "                    best_params['ngcg10'] = params\n",
        "\n",
        "                print(params)\n",
        "                print(f'ngcg5_score = {ngcg5_score}, ngcg10_score = {ngcg10_score}')\n",
        "                print('-------\\n')\n",
        "\n",
        "    return best_params, best_score_ngcg5, best_score_ngcg10"
      ],
      "metadata": {
        "id": "kdqNeDa54Rwp"
      },
      "execution_count": null,
      "outputs": []
    },
    {
      "cell_type": "code",
      "source": [
        "param_grid = {\n",
        "    'min_child_samples': [10, 20, 30],\n",
        "    'num_leaves': [20, 30, 40],\n",
        "    'learning_rate': [0.05, 0.1, 0.2],\n",
        "}\n",
        "\n",
        "best_params, best_score_ngcg5, best_score_ngcg10 = tune_lgbm_ranker(X_train, y_train, X_test, y_test, qids_train, qids_test, param_grid)"
      ],
      "metadata": {
        "colab": {
          "base_uri": "https://localhost:8080/"
        },
        "id": "zlMC0PYu6hyk",
        "outputId": "389a4c0a-7184-4363-d563-4fe9cd5e01d9"
      },
      "execution_count": null,
      "outputs": [
        {
          "output_type": "stream",
          "name": "stdout",
          "text": [
            "Training until validation scores don't improve for 50 rounds\n",
            "Early stopping, best iteration is:\n",
            "[160]\ttraining's ndcg@5: 0.564236\ttraining's ndcg@10: 0.568533\tvalid_1's ndcg@5: 0.485474\tvalid_1's ndcg@10: 0.502842\n",
            "{'min_child_samples': 10, 'num_leaves': 20, 'learning_rate': 0.05}\n",
            "ngcg5_score = 0.46939223045771616, ngcg10_score = 0.4873209883258382\n",
            "-------\n",
            "\n",
            "Training until validation scores don't improve for 50 rounds\n",
            "Early stopping, best iteration is:\n",
            "[106]\ttraining's ndcg@5: 0.586113\ttraining's ndcg@10: 0.585497\tvalid_1's ndcg@5: 0.492338\tvalid_1's ndcg@10: 0.504417\n",
            "{'min_child_samples': 10, 'num_leaves': 20, 'learning_rate': 0.1}\n",
            "ngcg5_score = 0.47662040732672917, ngcg10_score = 0.48910335968401936\n",
            "-------\n",
            "\n",
            "Training until validation scores don't improve for 50 rounds\n",
            "Early stopping, best iteration is:\n",
            "[90]\ttraining's ndcg@5: 0.616722\ttraining's ndcg@10: 0.613301\tvalid_1's ndcg@5: 0.487958\tvalid_1's ndcg@10: 0.496644\n",
            "{'min_child_samples': 10, 'num_leaves': 20, 'learning_rate': 0.2}\n",
            "ngcg5_score = 0.47178332145905194, ngcg10_score = 0.4811446561554947\n",
            "-------\n",
            "\n",
            "Training until validation scores don't improve for 50 rounds\n",
            "Early stopping, best iteration is:\n",
            "[154]\ttraining's ndcg@5: 0.600112\ttraining's ndcg@10: 0.597819\tvalid_1's ndcg@5: 0.492877\tvalid_1's ndcg@10: 0.509533\n",
            "{'min_child_samples': 10, 'num_leaves': 30, 'learning_rate': 0.05}\n",
            "ngcg5_score = 0.47718234970761153, ngcg10_score = 0.4944682958866487\n",
            "-------\n",
            "\n",
            "Training until validation scores don't improve for 50 rounds\n",
            "Early stopping, best iteration is:\n",
            "[102]\ttraining's ndcg@5: 0.623151\ttraining's ndcg@10: 0.616903\tvalid_1's ndcg@5: 0.48535\tvalid_1's ndcg@10: 0.500385\n",
            "{'min_child_samples': 10, 'num_leaves': 30, 'learning_rate': 0.1}\n",
            "ngcg5_score = 0.4694330307962327, ngcg10_score = 0.4849471745935412\n",
            "-------\n",
            "\n",
            "Training until validation scores don't improve for 50 rounds\n",
            "Early stopping, best iteration is:\n",
            "[37]\ttraining's ndcg@5: 0.587407\ttraining's ndcg@10: 0.587404\tvalid_1's ndcg@5: 0.475439\tvalid_1's ndcg@10: 0.497005\n",
            "{'min_child_samples': 10, 'num_leaves': 30, 'learning_rate': 0.2}\n",
            "ngcg5_score = 0.4591637980029154, ngcg10_score = 0.48119346890669124\n",
            "-------\n",
            "\n",
            "Training until validation scores don't improve for 50 rounds\n",
            "Early stopping, best iteration is:\n",
            "[143]\ttraining's ndcg@5: 0.622126\ttraining's ndcg@10: 0.617685\tvalid_1's ndcg@5: 0.486115\tvalid_1's ndcg@10: 0.503216\n",
            "{'min_child_samples': 10, 'num_leaves': 40, 'learning_rate': 0.05}\n",
            "ngcg5_score = 0.4697078873940446, ngcg10_score = 0.4876107146666854\n",
            "-------\n",
            "\n",
            "Training until validation scores don't improve for 50 rounds\n",
            "Early stopping, best iteration is:\n",
            "[125]\ttraining's ndcg@5: 0.675354\ttraining's ndcg@10: 0.661988\tvalid_1's ndcg@5: 0.483337\tvalid_1's ndcg@10: 0.503036\n",
            "{'min_child_samples': 10, 'num_leaves': 40, 'learning_rate': 0.1}\n",
            "ngcg5_score = 0.46747091563587323, ngcg10_score = 0.4876762821311475\n",
            "-------\n",
            "\n",
            "Training until validation scores don't improve for 50 rounds\n",
            "Early stopping, best iteration is:\n",
            "[31]\ttraining's ndcg@5: 0.596943\ttraining's ndcg@10: 0.596596\tvalid_1's ndcg@5: 0.482918\tvalid_1's ndcg@10: 0.49748\n",
            "{'min_child_samples': 10, 'num_leaves': 40, 'learning_rate': 0.2}\n",
            "ngcg5_score = 0.46664860969198574, ngcg10_score = 0.48174875354307406\n",
            "-------\n",
            "\n",
            "Training until validation scores don't improve for 50 rounds\n",
            "Early stopping, best iteration is:\n",
            "[157]\ttraining's ndcg@5: 0.564767\ttraining's ndcg@10: 0.567651\tvalid_1's ndcg@5: 0.483557\tvalid_1's ndcg@10: 0.502553\n",
            "{'min_child_samples': 20, 'num_leaves': 20, 'learning_rate': 0.05}\n",
            "ngcg5_score = 0.4675841069925177, ngcg10_score = 0.4871955443990437\n",
            "-------\n",
            "\n",
            "Training until validation scores don't improve for 50 rounds\n",
            "Early stopping, best iteration is:\n",
            "[134]\ttraining's ndcg@5: 0.603785\ttraining's ndcg@10: 0.600031\tvalid_1's ndcg@5: 0.488642\tvalid_1's ndcg@10: 0.504624\n",
            "{'min_child_samples': 20, 'num_leaves': 20, 'learning_rate': 0.1}\n",
            "ngcg5_score = 0.47291949724761423, ngcg10_score = 0.48933924441112986\n",
            "-------\n",
            "\n",
            "Training until validation scores don't improve for 50 rounds\n",
            "Early stopping, best iteration is:\n",
            "[58]\ttraining's ndcg@5: 0.581654\ttraining's ndcg@10: 0.583533\tvalid_1's ndcg@5: 0.484774\tvalid_1's ndcg@10: 0.50345\n",
            "{'min_child_samples': 20, 'num_leaves': 20, 'learning_rate': 0.2}\n",
            "ngcg5_score = 0.46885868705246664, ngcg10_score = 0.4879700062031398\n",
            "-------\n",
            "\n",
            "Training until validation scores don't improve for 50 rounds\n",
            "Early stopping, best iteration is:\n",
            "[195]\ttraining's ndcg@5: 0.621562\ttraining's ndcg@10: 0.614204\tvalid_1's ndcg@5: 0.49363\tvalid_1's ndcg@10: 0.508613\n",
            "{'min_child_samples': 20, 'num_leaves': 30, 'learning_rate': 0.05}\n",
            "ngcg5_score = 0.47773006958343706, ngcg10_score = 0.49322643552099904\n",
            "-------\n",
            "\n",
            "Training until validation scores don't improve for 50 rounds\n",
            "Early stopping, best iteration is:\n",
            "[93]\ttraining's ndcg@5: 0.614683\ttraining's ndcg@10: 0.609859\tvalid_1's ndcg@5: 0.483674\tvalid_1's ndcg@10: 0.502725\n",
            "{'min_child_samples': 20, 'num_leaves': 30, 'learning_rate': 0.1}\n",
            "ngcg5_score = 0.46773105689297, ngcg10_score = 0.4872252234708776\n",
            "-------\n",
            "\n",
            "Training until validation scores don't improve for 50 rounds\n",
            "Early stopping, best iteration is:\n",
            "[33]\ttraining's ndcg@5: 0.576086\ttraining's ndcg@10: 0.57845\tvalid_1's ndcg@5: 0.476152\tvalid_1's ndcg@10: 0.494711\n",
            "{'min_child_samples': 20, 'num_leaves': 30, 'learning_rate': 0.2}\n",
            "ngcg5_score = 0.4597738332774198, ngcg10_score = 0.4794819956319672\n",
            "-------\n",
            "\n",
            "Training until validation scores don't improve for 50 rounds\n",
            "Early stopping, best iteration is:\n",
            "[121]\ttraining's ndcg@5: 0.609198\ttraining's ndcg@10: 0.603951\tvalid_1's ndcg@5: 0.488548\tvalid_1's ndcg@10: 0.502671\n",
            "{'min_child_samples': 20, 'num_leaves': 40, 'learning_rate': 0.05}\n",
            "ngcg5_score = 0.4727302424453877, ngcg10_score = 0.48732034556853177\n",
            "-------\n",
            "\n",
            "Training until validation scores don't improve for 50 rounds\n",
            "Early stopping, best iteration is:\n",
            "[85]\ttraining's ndcg@5: 0.637552\ttraining's ndcg@10: 0.629144\tvalid_1's ndcg@5: 0.491788\tvalid_1's ndcg@10: 0.505644\n",
            "{'min_child_samples': 20, 'num_leaves': 40, 'learning_rate': 0.1}\n",
            "ngcg5_score = 0.4760141523213343, ngcg10_score = 0.49049005931876255\n",
            "-------\n",
            "\n",
            "Training until validation scores don't improve for 50 rounds\n",
            "Early stopping, best iteration is:\n",
            "[47]\ttraining's ndcg@5: 0.635264\ttraining's ndcg@10: 0.629273\tvalid_1's ndcg@5: 0.478719\tvalid_1's ndcg@10: 0.493351\n",
            "{'min_child_samples': 20, 'num_leaves': 40, 'learning_rate': 0.2}\n",
            "ngcg5_score = 0.46229621433827883, ngcg10_score = 0.47759015818072953\n",
            "-------\n",
            "\n",
            "Training until validation scores don't improve for 50 rounds\n",
            "Early stopping, best iteration is:\n",
            "[141]\ttraining's ndcg@5: 0.557803\ttraining's ndcg@10: 0.562774\tvalid_1's ndcg@5: 0.48551\tvalid_1's ndcg@10: 0.500635\n",
            "{'min_child_samples': 30, 'num_leaves': 20, 'learning_rate': 0.05}\n",
            "ngcg5_score = 0.46966505483504717, ngcg10_score = 0.48524493890077514\n",
            "-------\n",
            "\n",
            "Training until validation scores don't improve for 50 rounds\n",
            "Early stopping, best iteration is:\n",
            "[89]\ttraining's ndcg@5: 0.572845\ttraining's ndcg@10: 0.575089\tvalid_1's ndcg@5: 0.48487\tvalid_1's ndcg@10: 0.501773\n",
            "{'min_child_samples': 30, 'num_leaves': 20, 'learning_rate': 0.1}\n",
            "ngcg5_score = 0.46871865367713517, ngcg10_score = 0.4861709513824676\n",
            "-------\n",
            "\n",
            "Training until validation scores don't improve for 50 rounds\n",
            "Early stopping, best iteration is:\n",
            "[47]\ttraining's ndcg@5: 0.568064\ttraining's ndcg@10: 0.570868\tvalid_1's ndcg@5: 0.487692\tvalid_1's ndcg@10: 0.50345\n",
            "{'min_child_samples': 30, 'num_leaves': 20, 'learning_rate': 0.2}\n",
            "ngcg5_score = 0.47160586452843656, ngcg10_score = 0.4879483093198451\n",
            "-------\n",
            "\n",
            "Training until validation scores don't improve for 50 rounds\n",
            "Early stopping, best iteration is:\n",
            "[175]\ttraining's ndcg@5: 0.612045\ttraining's ndcg@10: 0.607643\tvalid_1's ndcg@5: 0.49546\tvalid_1's ndcg@10: 0.512275\n",
            "{'min_child_samples': 30, 'num_leaves': 30, 'learning_rate': 0.05}\n",
            "ngcg5_score = 0.47946931191747055, ngcg10_score = 0.497103622872247\n",
            "-------\n",
            "\n",
            "Training until validation scores don't improve for 50 rounds\n",
            "Early stopping, best iteration is:\n",
            "[119]\ttraining's ndcg@5: 0.635547\ttraining's ndcg@10: 0.627901\tvalid_1's ndcg@5: 0.484955\tvalid_1's ndcg@10: 0.503315\n",
            "{'min_child_samples': 30, 'num_leaves': 30, 'learning_rate': 0.1}\n",
            "ngcg5_score = 0.46914243890580604, ngcg10_score = 0.4878449316323414\n",
            "-------\n",
            "\n",
            "Training until validation scores don't improve for 50 rounds\n",
            "Early stopping, best iteration is:\n",
            "[30]\ttraining's ndcg@5: 0.57029\ttraining's ndcg@10: 0.57282\tvalid_1's ndcg@5: 0.470854\tvalid_1's ndcg@10: 0.496704\n",
            "{'min_child_samples': 30, 'num_leaves': 30, 'learning_rate': 0.2}\n",
            "ngcg5_score = 0.4546724063738149, ngcg10_score = 0.48131398932276037\n",
            "-------\n",
            "\n",
            "Training until validation scores don't improve for 50 rounds\n",
            "Early stopping, best iteration is:\n",
            "[127]\ttraining's ndcg@5: 0.611063\ttraining's ndcg@10: 0.608195\tvalid_1's ndcg@5: 0.48675\tvalid_1's ndcg@10: 0.507382\n",
            "{'min_child_samples': 30, 'num_leaves': 40, 'learning_rate': 0.05}\n",
            "ngcg5_score = 0.4704892511352127, ngcg10_score = 0.4918941610166786\n",
            "-------\n",
            "\n",
            "Training until validation scores don't improve for 50 rounds\n",
            "Early stopping, best iteration is:\n",
            "[73]\ttraining's ndcg@5: 0.621206\ttraining's ndcg@10: 0.616774\tvalid_1's ndcg@5: 0.486111\tvalid_1's ndcg@10: 0.504207\n",
            "{'min_child_samples': 30, 'num_leaves': 40, 'learning_rate': 0.1}\n",
            "ngcg5_score = 0.4698431988304552, ngcg10_score = 0.4884381358993201\n",
            "-------\n",
            "\n",
            "Training until validation scores don't improve for 50 rounds\n",
            "Early stopping, best iteration is:\n",
            "[32]\ttraining's ndcg@5: 0.602705\ttraining's ndcg@10: 0.5998\tvalid_1's ndcg@5: 0.475531\tvalid_1's ndcg@10: 0.498013\n",
            "{'min_child_samples': 30, 'num_leaves': 40, 'learning_rate': 0.2}\n",
            "ngcg5_score = 0.45913287606377184, ngcg10_score = 0.48243398268501175\n",
            "-------\n",
            "\n"
          ]
        }
      ]
    },
    {
      "cell_type": "code",
      "source": [
        "best_score_ngcg5, best_score_ngcg10"
      ],
      "metadata": {
        "colab": {
          "base_uri": "https://localhost:8080/"
        },
        "id": "Ww2u3kGzE9oo",
        "outputId": "da1b4730-feb8-491e-a55c-f0be00214406"
      },
      "execution_count": null,
      "outputs": [
        {
          "output_type": "execute_result",
          "data": {
            "text/plain": [
              "(0.47946931191747055, 0.497103622872247)"
            ]
          },
          "metadata": {},
          "execution_count": 30
        }
      ]
    },
    {
      "cell_type": "code",
      "source": [
        "best_params"
      ],
      "metadata": {
        "colab": {
          "base_uri": "https://localhost:8080/"
        },
        "id": "Ky5urOemHFOx",
        "outputId": "f41f4e98-620e-44be-d85c-8dbeccd1e136"
      },
      "execution_count": null,
      "outputs": [
        {
          "output_type": "execute_result",
          "data": {
            "text/plain": [
              "{'ngcg5': {'min_child_samples': 30, 'num_leaves': 30, 'learning_rate': 0.05},\n",
              " 'ngcg10': {'min_child_samples': 30, 'num_leaves': 30, 'learning_rate': 0.05}}"
            ]
          },
          "metadata": {},
          "execution_count": 31
        }
      ]
    },
    {
      "cell_type": "markdown",
      "source": [
        "Обучим модель на найденных параметрах."
      ],
      "metadata": {
        "id": "8bdJvileG-9a"
      }
    },
    {
      "cell_type": "code",
      "source": [
        "# Creating the ranker object\n",
        "model = lgb.LGBMRanker(\n",
        "    objective='lambdarank',\n",
        "    metric=\"ndcg\",\n",
        "    n_estimators=1000,\n",
        "    min_child_samples=30,\n",
        "    num_leaves=30,\n",
        "    learning_rate=0.05,\n",
        "    n_jobs=2,\n",
        "    random_state=4\n",
        ")\n",
        "\n",
        "# Training the model\n",
        "gbm = model.fit(\n",
        "      X=X_train,\n",
        "      y=y_train,\n",
        "      group=qids_train,\n",
        "      eval_set=[(X_train, y_train),(X_test, y_test)],\n",
        "      eval_group=[qids_train, qids_test],\n",
        "      callbacks=[lgb.log_evaluation(10), lgb.early_stopping(50)],\n",
        "      eval_at=[5, 10])"
      ],
      "metadata": {
        "colab": {
          "base_uri": "https://localhost:8080/"
        },
        "id": "bou_hV8_HLAQ",
        "outputId": "034a8a9d-6c75-4d19-a62b-b18cb46167e9"
      },
      "execution_count": null,
      "outputs": [
        {
          "output_type": "stream",
          "name": "stdout",
          "text": [
            "[LightGBM] [Info] Auto-choosing row-wise multi-threading, the overhead of testing was 0.275234 seconds.\n",
            "You can set `force_row_wise=true` to remove the overhead.\n",
            "And if memory is not enough, you can set `force_col_wise=true`.\n",
            "[LightGBM] [Info] Total Bins 19970\n",
            "[LightGBM] [Info] Number of data points in the train set: 187245, number of used features: 107\n",
            "Training until validation scores don't improve for 50 rounds\n",
            "[10]\ttraining's ndcg@5: 0.450572\ttraining's ndcg@10: 0.470013\tvalid_1's ndcg@5: 0.421393\tvalid_1's ndcg@10: 0.444268\n",
            "[20]\ttraining's ndcg@5: 0.47249\ttraining's ndcg@10: 0.492586\tvalid_1's ndcg@5: 0.432682\tvalid_1's ndcg@10: 0.455272\n",
            "[30]\ttraining's ndcg@5: 0.491416\ttraining's ndcg@10: 0.507281\tvalid_1's ndcg@5: 0.442354\tvalid_1's ndcg@10: 0.463199\n",
            "[40]\ttraining's ndcg@5: 0.50758\ttraining's ndcg@10: 0.521008\tvalid_1's ndcg@5: 0.456\tvalid_1's ndcg@10: 0.474598\n",
            "[50]\ttraining's ndcg@5: 0.520446\ttraining's ndcg@10: 0.53207\tvalid_1's ndcg@5: 0.466211\tvalid_1's ndcg@10: 0.484738\n",
            "[60]\ttraining's ndcg@5: 0.53172\ttraining's ndcg@10: 0.541194\tvalid_1's ndcg@5: 0.470332\tvalid_1's ndcg@10: 0.490784\n",
            "[70]\ttraining's ndcg@5: 0.541973\ttraining's ndcg@10: 0.55032\tvalid_1's ndcg@5: 0.473185\tvalid_1's ndcg@10: 0.493497\n",
            "[80]\ttraining's ndcg@5: 0.551583\ttraining's ndcg@10: 0.557927\tvalid_1's ndcg@5: 0.473437\tvalid_1's ndcg@10: 0.495951\n",
            "[90]\ttraining's ndcg@5: 0.557964\ttraining's ndcg@10: 0.563107\tvalid_1's ndcg@5: 0.47687\tvalid_1's ndcg@10: 0.501923\n",
            "[100]\ttraining's ndcg@5: 0.567268\ttraining's ndcg@10: 0.570166\tvalid_1's ndcg@5: 0.481875\tvalid_1's ndcg@10: 0.50176\n",
            "[110]\ttraining's ndcg@5: 0.574754\ttraining's ndcg@10: 0.57563\tvalid_1's ndcg@5: 0.482213\tvalid_1's ndcg@10: 0.501432\n",
            "[120]\ttraining's ndcg@5: 0.581028\ttraining's ndcg@10: 0.581537\tvalid_1's ndcg@5: 0.481948\tvalid_1's ndcg@10: 0.502734\n",
            "[130]\ttraining's ndcg@5: 0.586354\ttraining's ndcg@10: 0.585933\tvalid_1's ndcg@5: 0.486074\tvalid_1's ndcg@10: 0.5054\n",
            "[140]\ttraining's ndcg@5: 0.592422\ttraining's ndcg@10: 0.590997\tvalid_1's ndcg@5: 0.486811\tvalid_1's ndcg@10: 0.505869\n",
            "[150]\ttraining's ndcg@5: 0.598423\ttraining's ndcg@10: 0.596311\tvalid_1's ndcg@5: 0.486972\tvalid_1's ndcg@10: 0.506966\n",
            "[160]\ttraining's ndcg@5: 0.603971\ttraining's ndcg@10: 0.601359\tvalid_1's ndcg@5: 0.491895\tvalid_1's ndcg@10: 0.509579\n",
            "[170]\ttraining's ndcg@5: 0.609122\ttraining's ndcg@10: 0.605247\tvalid_1's ndcg@5: 0.493293\tvalid_1's ndcg@10: 0.51176\n",
            "[180]\ttraining's ndcg@5: 0.614831\ttraining's ndcg@10: 0.610109\tvalid_1's ndcg@5: 0.493935\tvalid_1's ndcg@10: 0.511391\n",
            "[190]\ttraining's ndcg@5: 0.619883\ttraining's ndcg@10: 0.613845\tvalid_1's ndcg@5: 0.494402\tvalid_1's ndcg@10: 0.51203\n",
            "[200]\ttraining's ndcg@5: 0.623552\ttraining's ndcg@10: 0.617615\tvalid_1's ndcg@5: 0.493687\tvalid_1's ndcg@10: 0.510033\n",
            "[210]\ttraining's ndcg@5: 0.627321\ttraining's ndcg@10: 0.621003\tvalid_1's ndcg@5: 0.491865\tvalid_1's ndcg@10: 0.509261\n",
            "[220]\ttraining's ndcg@5: 0.630926\ttraining's ndcg@10: 0.624482\tvalid_1's ndcg@5: 0.490989\tvalid_1's ndcg@10: 0.508996\n",
            "Early stopping, best iteration is:\n",
            "[175]\ttraining's ndcg@5: 0.612045\ttraining's ndcg@10: 0.607643\tvalid_1's ndcg@5: 0.49546\tvalid_1's ndcg@10: 0.512275\n"
          ]
        }
      ]
    },
    {
      "cell_type": "code",
      "source": [
        "total_ndcg(5, gbm), total_ndcg(10, gbm)"
      ],
      "metadata": {
        "colab": {
          "base_uri": "https://localhost:8080/"
        },
        "id": "2lCbzR0VHqvr",
        "outputId": "08459edf-f131-4240-8fd3-9b5bd9399cee"
      },
      "execution_count": null,
      "outputs": [
        {
          "output_type": "execute_result",
          "data": {
            "text/plain": [
              "(0.47946931191747055, 0.497103622872247)"
            ]
          },
          "metadata": {},
          "execution_count": 33
        }
      ]
    },
    {
      "cell_type": "markdown",
      "source": [
        "Относительно изначального результата у метрики NDCG5 результат улучшился на `0,005646583`, а у NDCG10 улучшился на `0,006273171`. Отлично!"
      ],
      "metadata": {
        "id": "RldQ32sBHHCv"
      }
    },
    {
      "cell_type": "markdown",
      "source": [
        "## Ансабль"
      ],
      "metadata": {
        "id": "w8Th1VJWHjsR"
      }
    },
    {
      "cell_type": "markdown",
      "source": [
        "Еще одно из решений повысить точность это использовать ансабль моделей. Тк данных не много, то добавим еще 2 модели к нашей текущей."
      ],
      "metadata": {
        "id": "Th0fKk7gHWm-"
      }
    },
    {
      "cell_type": "code",
      "source": [
        "kf = KFold(n_splits=2)\n",
        "\n",
        "X_train_folds = []\n",
        "y_train_folds = []\n",
        "group_train_folds = []\n",
        "\n",
        "X_test_folds = []\n",
        "y_test_folds = []\n",
        "group_test_folds = []\n",
        "\n",
        "for i, (train_qids_index, test_qids_index) in enumerate(kf.split(query_train)):\n",
        "  df_train_fold = df[df['query_id'].isin(np.take(query_train, train_qids_index))]\n",
        "  df_test_fold = df[df['query_id'].isin(np.take(query_train, test_qids_index))]\n",
        "\n",
        "  print(f\"No of unique queries in train (fold {i}): {df_train_fold.shape}\")\n",
        "  print(f\"No of unique queries in test (fold {i}): {df_test_fold.shape}\")\n",
        "\n",
        "  group_train_folds.append(df_train_fold.groupby(\"query_id\")[\"query_id\"].count().to_numpy())\n",
        "  group_test_folds.append(df_test_fold.groupby(\"query_id\")[\"query_id\"].count().to_numpy())\n",
        "\n",
        "  X_train_folds.append(df_train_fold.drop([\"query_id\", \"rank\"], axis = 1))\n",
        "  y_train_folds.append(df_train_fold['rank'].astype(int))\n",
        "\n",
        "  X_test_folds.append(df_test_fold.drop([\"query_id\", \"rank\"], axis = 1))\n",
        "  y_test_folds.append(df_test_fold['rank'].astype(int))"
      ],
      "metadata": {
        "colab": {
          "base_uri": "https://localhost:8080/"
        },
        "id": "MHBDLUF8Louh",
        "outputId": "b6a4dfca-e4f4-434b-ecb8-b675d719f5c4"
      },
      "execution_count": null,
      "outputs": [
        {
          "output_type": "stream",
          "name": "stdout",
          "text": [
            "No of unique queries in train (fold 0): (92151, 109)\n",
            "No of unique queries in test (fold 0): (95094, 109)\n",
            "No of unique queries in train (fold 1): (95094, 109)\n",
            "No of unique queries in test (fold 1): (92151, 109)\n"
          ]
        }
      ]
    },
    {
      "cell_type": "code",
      "source": [
        "models = []\n",
        "\n",
        "for i in range(2):\n",
        "  model = lgb.LGBMRanker(\n",
        "    objective='lambdarank',\n",
        "    metric=\"ndcg\",\n",
        "    n_estimators=1000,\n",
        "    min_child_samples=30,\n",
        "    num_leaves=30,\n",
        "    learning_rate=0.05,\n",
        "    n_jobs=2,\n",
        "    random_state=4,\n",
        "    verbose=0\n",
        "  )\n",
        "\n",
        "  model.fit(\n",
        "      X=X_train_folds[i],\n",
        "      y=y_train_folds[i],\n",
        "      group=group_train_folds[i],\n",
        "      eval_set=[(X_test_folds[i], y_test_folds[i])],\n",
        "      eval_group=[group_test_folds[i]],\n",
        "      callbacks=[lgb.early_stopping(50)])\n",
        "  models.append(model)"
      ],
      "metadata": {
        "colab": {
          "base_uri": "https://localhost:8080/"
        },
        "id": "hwFjfG-iHlgz",
        "outputId": "2a3dda92-ebca-40fd-a049-83d5a48ed5ec"
      },
      "execution_count": null,
      "outputs": [
        {
          "output_type": "stream",
          "name": "stdout",
          "text": [
            "Training until validation scores don't improve for 50 rounds\n",
            "Early stopping, best iteration is:\n",
            "[143]\tvalid_0's ndcg@1: 0.474726\tvalid_0's ndcg@2: 0.452807\tvalid_0's ndcg@3: 0.450875\tvalid_0's ndcg@4: 0.453767\tvalid_0's ndcg@5: 0.455795\n",
            "Training until validation scores don't improve for 50 rounds\n",
            "Early stopping, best iteration is:\n",
            "[112]\tvalid_0's ndcg@1: 0.5035\tvalid_0's ndcg@2: 0.490223\tvalid_0's ndcg@3: 0.483661\tvalid_0's ndcg@4: 0.488112\tvalid_0's ndcg@5: 0.491635\n"
          ]
        }
      ]
    },
    {
      "cell_type": "code",
      "source": [
        "models.append(gbm)"
      ],
      "metadata": {
        "id": "Y_cAD2sPKxRD"
      },
      "execution_count": null,
      "outputs": []
    },
    {
      "cell_type": "code",
      "source": [
        "ndcg_5 = list()\n",
        "ndcg_10 = list()\n",
        "\n",
        "qid_test = df_test[\"query_id\"].unique()\n",
        "\n",
        "for i, qid in enumerate(qid_test):\n",
        "  y = y_test[df_test[\"query_id\"] == qid]\n",
        "\n",
        "  if np.sum(y) == 0:\n",
        "      continue\n",
        "\n",
        "  p = np.empty((len(models), len(y)))\n",
        "  for ind, model in enumerate(models):\n",
        "    p[ind] = model.predict(X_test[df_test[\"query_id\"] == qid])\n",
        "\n",
        "  p = sum(p) / len(p)\n",
        "\n",
        "  idcg5 = ndcg(y, y, 5)\n",
        "  ndcg_5.append(ndcg(p, y, 5) / idcg5)\n",
        "\n",
        "  idcg10 = ndcg(y, y, 10)\n",
        "  ndcg_10.append(ndcg(p, y, 10) / idcg10)\n",
        "\n",
        "print(f'NDCG5 = {np.mean(ndcg_5)}')\n",
        "print(f'NDCG10 = {np.mean(ndcg_10)}')"
      ],
      "metadata": {
        "id": "ByJ033XwWyDe",
        "colab": {
          "base_uri": "https://localhost:8080/"
        },
        "outputId": "20179bac-d053-4837-d6b5-9a22cee4ed9e"
      },
      "execution_count": null,
      "outputs": [
        {
          "output_type": "stream",
          "name": "stdout",
          "text": [
            "NDCG5 = 0.4744209675469801\n",
            "NDCG10 = 0.4911636783322146\n"
          ]
        }
      ]
    },
    {
      "cell_type": "markdown",
      "source": [
        "К сожалению в ансабле результаты только ухудшились :("
      ],
      "metadata": {
        "id": "vhb6eG47L3qj"
      }
    },
    {
      "cell_type": "markdown",
      "source": [
        "# Постанализ"
      ],
      "metadata": {
        "id": "DK-YCXaBL-Sh"
      }
    },
    {
      "cell_type": "markdown",
      "source": [
        "Проведем постанализ, чтобы составить несколько гипотез по улучшению модели.\n",
        "\n",
        "Первым делом"
      ],
      "metadata": {
        "id": "_bPjlZQAjWsp"
      }
    },
    {
      "cell_type": "code",
      "source": [
        "ndcg_metric = {\n",
        "    'NDCG5': [],\n",
        "    'NDCG10': [],\n",
        "    'ids': []\n",
        "}\n",
        "\n",
        "qid_test = df_test[\"query_id\"].unique()\n",
        "\n",
        "for i, qid in enumerate(qid_test):\n",
        "  y = y_test[df_test[\"query_id\"] == qid]\n",
        "\n",
        "  if np.sum(y) == 0:\n",
        "      continue\n",
        "\n",
        "  p = gbm.predict(X_test[df_test[\"query_id\"] == qid])\n",
        "\n",
        "  idcg5 = ndcg(y, y, 5)\n",
        "  ndcg_metric['NDCG5'].append(ndcg(p, y, 5) / idcg5)\n",
        "\n",
        "  idcg10 = ndcg(y, y, 10)\n",
        "  ndcg_metric['NDCG10'].append(ndcg(p, y, 10) / idcg10)\n",
        "\n",
        "  ndcg_metric['ids'].append(qid)"
      ],
      "metadata": {
        "id": "f3sSafIhjml9"
      },
      "execution_count": null,
      "outputs": []
    },
    {
      "cell_type": "code",
      "source": [
        "fig, ax = plt.subplots(1,2, figsize=(14, 7))\n",
        "sns.histplot(ndcg_metric['NDCG5'], ax=ax[0], stat='percent')\n",
        "sns.histplot(ndcg_metric['NDCG10'], ax=ax[1], stat='percent')\n",
        "ax[0].set_title('NDCG5')\n",
        "ax[1].set_title('NDCG10')"
      ],
      "metadata": {
        "colab": {
          "base_uri": "https://localhost:8080/",
          "height": 643
        },
        "id": "r71U25E4jJPa",
        "outputId": "21b798ab-770f-46cc-9d91-7f91affcd2e4"
      },
      "execution_count": null,
      "outputs": [
        {
          "output_type": "execute_result",
          "data": {
            "text/plain": [
              "Text(0.5, 1.0, 'NDCG10')"
            ]
          },
          "metadata": {},
          "execution_count": 39
        },
        {
          "output_type": "display_data",
          "data": {
            "text/plain": [
              "<Figure size 1400x700 with 2 Axes>"
            ],
            "image/png": "[encoded data removed]"
          },
          "metadata": {}
        }
      ]
    },
    {
      "cell_type": "markdown",
      "source": [
        "Видно, что в большинстве случаев модель предсказывает со значением метрики от 0,4 до 0,6. Справа график близок к нормальному распределению.\n",
        "\n",
        "Посмотрим на данные, у которых метрика равна нулю и единице."
      ],
      "metadata": {
        "id": "3vlPyA5hk3GH"
      }
    },
    {
      "cell_type": "code",
      "source": [
        "qid0 = []\n",
        "qid1 = []\n",
        "\n",
        "for i, val in enumerate(ndcg_metric['NDCG5']):\n",
        "  if val < 0.05:\n",
        "    qid = ndcg_metric['ids'][i]\n",
        "    qid0.append(qid)\n",
        "    print(\"0: \", qid, len(df_test[df_test[\"query_id\"] == qid]))\n",
        "  if val > 0.9:\n",
        "    qid = ndcg_metric['ids'][i]\n",
        "    qid1.append(qid)\n",
        "    print(\"1: \", qid, len(df_test[df_test[\"query_id\"] == qid]))"
      ],
      "metadata": {
        "colab": {
          "base_uri": "https://localhost:8080/"
        },
        "id": "-A3qrYiily4U",
        "outputId": "e692bcc2-7751-43b8-92ca-9fddc8358e29"
      },
      "execution_count": null,
      "outputs": [
        {
          "output_type": "stream",
          "name": "stdout",
          "text": [
            "1:  130 84\n",
            "1:  880 84\n",
            "1:  970 57\n",
            "1:  1060 83\n",
            "0:  1150 59\n",
            "0:  2830 171\n",
            "1:  3205 148\n",
            "1:  3505 49\n",
            "1:  3880 73\n",
            "0:  3925 95\n",
            "0:  5590 84\n",
            "1:  5620 40\n",
            "0:  7780 76\n",
            "1:  8170 22\n",
            "0:  8245 20\n",
            "0:  8920 195\n",
            "0:  9925 36\n",
            "1:  10060 72\n",
            "0:  10405 146\n",
            "0:  10615 15\n",
            "1:  10900 49\n",
            "1:  10915 93\n",
            "0:  11110 119\n",
            "0:  13795 210\n",
            "1:  14605 190\n",
            "0:  15115 106\n",
            "1:  16690 84\n",
            "0:  17020 11\n",
            "1:  17770 194\n",
            "1:  17920 7\n",
            "0:  19075 60\n",
            "0:  19090 14\n",
            "0:  19405 30\n",
            "1:  22345 89\n",
            "1:  22780 2\n",
            "1:  23170 80\n",
            "1:  25525 28\n",
            "0:  26335 102\n",
            "0:  28420 187\n"
          ]
        }
      ]
    },
    {
      "cell_type": "code",
      "source": [
        "len(qid0), len(qid1)"
      ],
      "metadata": {
        "colab": {
          "base_uri": "https://localhost:8080/"
        },
        "id": "_v0pz6x2Ikoj",
        "outputId": "75b1d2c3-7dff-47b3-8aee-04296c7a3e0f"
      },
      "execution_count": null,
      "outputs": [
        {
          "output_type": "execute_result",
          "data": {
            "text/plain": [
              "(19, 20)"
            ]
          },
          "metadata": {},
          "execution_count": 41
        }
      ]
    },
    {
      "cell_type": "markdown",
      "source": [
        "При помощи describe посмотрим краткую характеристику по данным и найдем различия с помощью косинусного сходства двух списков."
      ],
      "metadata": {
        "id": "n0W8E8gxMGyF"
      }
    },
    {
      "cell_type": "code",
      "source": [
        "qid0_desc = df_test[df_test[\"query_id\"].isin(qid0)].describe().T\n",
        "qid1_desc = df_test[df_test[\"query_id\"].isin(qid1)].describe().T"
      ],
      "metadata": {
        "id": "hXPuytOBEw9I"
      },
      "execution_count": null,
      "outputs": []
    },
    {
      "cell_type": "code",
      "source": [
        "for i in range(2, len(qid0_desc)):\n",
        "  var0 = qid0_desc[['mean', 'std', '25%', '50%', '75%']].iloc[i:i+1, :]\n",
        "  var1 = qid1_desc[['mean', 'std', '25%', '50%', '75%']].iloc[i:i+1, :]\n",
        "  cos_dist = distance.cosine(var0.values.reshape(1, -1)[0], var1.values.reshape(1, -1)[0])\n",
        "  cos_sim = 1 - cos_dist  # Получаем косинусную меру сходства\n",
        "  if cos_sim < 0.9:\n",
        "    print(f'Cos of col {qid0_desc.index[i]} is {cos_sim}')"
      ],
      "metadata": {
        "colab": {
          "base_uri": "https://localhost:8080/"
        },
        "id": "3Tpu_xAEJGNX",
        "outputId": "b12e0a6d-b1ee-4fa3-e886-1f61969ffac4"
      },
      "execution_count": null,
      "outputs": [
        {
          "output_type": "stream",
          "name": "stdout",
          "text": [
            "Cos of col feature_2 is 0.8897701870673029\n",
            "Cos of col feature_5 is 0.8874966608406742\n",
            "Cos of col feature_9 is 0.8867459219521647\n",
            "Cos of col feature_12 is 0.6421152391859466\n",
            "Cos of col feature_27 is 0.585163730447212\n",
            "Cos of col feature_32 is 0.8953966609362617\n",
            "Cos of col feature_43 is 0.6381620166634775\n",
            "Cos of col feature_52 is 0.7498727291133687\n",
            "Cos of col feature_54 is 0.863818338056315\n",
            "Cos of col feature_68 is 0.7990477663186512\n",
            "Cos of col feature_77 is 0.652319766093656\n",
            "Cos of col feature_79 is 0.8803050000887421\n",
            "Cos of col feature_99 is 0.7649039639673916\n",
            "Cos of col feature_102 is 0.8804274839778259\n",
            "Cos of col feature_104 is 0.8923633960585242\n"
          ]
        },
        {
          "output_type": "stream",
          "name": "stderr",
          "text": [
            "/usr/local/lib/python3.10/dist-packages/scipy/spatial/distance.py:636: RuntimeWarning: invalid value encountered in scalar divide\n",
            "  dist = 1.0 - uv / np.sqrt(uu * vv)\n"
          ]
        }
      ]
    },
    {
      "cell_type": "markdown",
      "source": [
        "# Выводы и что можно сделать дальше"
      ],
      "metadata": {
        "id": "t_YGZzVPMT5M"
      }
    },
    {
      "cell_type": "markdown",
      "source": [
        "## Выводы"
      ],
      "metadata": {
        "id": "pwngLA8POHZx"
      }
    },
    {
      "cell_type": "markdown",
      "source": [
        "Итоговый результат для метрик NDCG5 и NDCG10 составили 0.479 и 0.497 соответсвенно. Лучшая модель оказалась LGBMRanker с параметрами\n",
        "\n",
        "```python\n",
        "objective='lambdarank',\n",
        "min_child_samples=30,\n",
        "num_leaves=30,\n",
        "learning_rate=0.05\n",
        "```\n",
        "\n",
        "Фичи, которые внесли ключевой вклад это **feature_14**, **feature_132** и **feature_129**. В тоже время **feature_77**, **feature_43**, **feature_12** показали наибольшее различие среди запросов, по которым модель смогла поставить ранг документам правильно и которым не смогла."
      ],
      "metadata": {
        "id": "KJRz1C6gMIWa"
      }
    },
    {
      "cell_type": "markdown",
      "source": [
        "## Что можно сделать дальше?"
      ],
      "metadata": {
        "id": "h4PCIUtyOJuQ"
      }
    },
    {
      "cell_type": "markdown",
      "source": [
        "Если бы у меня было больше времени, я бы посмотрел следующие стратегии.\n",
        "\n",
        "1. **Добавить новые фичи.** Главное перпятствие это то, что я не знаю что это за фичи. Можно бездумно перемножать или складывать, то это равносильно тыкнуть пальцем в небо. Если будет описание, то можно думать над различной агрегацией и тем самым дать модели новые данные.\n",
        "2. **Более подробно иучить фичи.** Интересно разузнать почему характеристики feature_77, feature_43, feature_12 сильно отличаются в зависимости от ответа модели.\n",
        "2. **Кластелизировать документы.** С помощью алгоритмов кластеризации разделить документы на подгруппы. Возможно это так же повысит информативность.\n",
        "3. **Создать несколько моделей на разные подгруппы запросов.** Разделить запросы по какому-нибудь признаку и обучить под каждый тип запроса отдельную модель. За счет этого у каждой моедли будет более \"специализированные\" запросы, за счет чего качество каждой повысится. И как следствие общий результат тоже.\n",
        "4. **Попробовать нейронные сети.** Скорее всего нейронные сети тут излишние (и скорее всего это так), но попробовать стоит.\n",
        "\n",
        "На этом всё. Задачка была необычная и интересная)"
      ],
      "metadata": {
        "id": "kI85RvOUONpQ"
      }
    }
  ]
}